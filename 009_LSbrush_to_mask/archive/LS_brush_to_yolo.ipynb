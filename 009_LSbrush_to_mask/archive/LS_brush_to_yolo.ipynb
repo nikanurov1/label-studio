{
 "cells": [
  {
   "cell_type": "code",
   "execution_count": 1,
   "id": "5ae3ba06-b810-4783-8fa9-58c23ac26dc4",
   "metadata": {},
   "outputs": [],
   "source": [
    "import json\n",
    "import cv2\n",
    "import numpy as np"
   ]
  },
  {
   "cell_type": "code",
   "execution_count": 2,
   "id": "13d00ee7-955e-4909-a581-491535e04d21",
   "metadata": {},
   "outputs": [],
   "source": [
    "path_labeled = \"/Users/YaVolkonskiy/Documents/001_Projects/003_tomato/001_data/001_raw_data/010_data_greenhouse_20_12_23/selected_images/Olga/project-21-at-2024-01-29-09-05-9fc962dd.json\"\n",
    "\n",
    "with open(path_labeled) as user_file:\n",
    "    parsed_json = json.load(user_file)\n",
    "    "
   ]
  },
  {
   "cell_type": "code",
   "execution_count": 3,
   "id": "bc00c176-c303-4c11-9798-d61bf1f068f4",
   "metadata": {},
   "outputs": [
    {
     "data": {
      "text/plain": [
       "9"
      ]
     },
     "execution_count": 3,
     "metadata": {},
     "output_type": "execute_result"
    }
   ],
   "source": [
    "len(parsed_json)"
   ]
  },
  {
   "cell_type": "code",
   "execution_count": 4,
   "id": "4f81fc21-1caf-4243-8ece-6c8b6cd6497b",
   "metadata": {
    "scrolled": true
   },
   "outputs": [
    {
     "data": {
      "text/plain": [
       "(4208, 3120)"
      ]
     },
     "execution_count": 4,
     "metadata": {},
     "output_type": "execute_result"
    }
   ],
   "source": [
    "original_width = parsed_json[0][\"annotations\"][0][\"result\"][128][\"original_width\"]\n",
    "original_height = parsed_json[0][\"annotations\"][0][\"result\"][128][\"original_height\"]\n",
    "\n",
    "dim = (original_width,original_height)\n",
    "dim"
   ]
  },
  {
   "cell_type": "code",
   "execution_count": 5,
   "id": "a025a0d9-e0e1-4246-bf7a-728cab9acde0",
   "metadata": {
    "scrolled": true
   },
   "outputs": [
    {
     "data": {
      "text/plain": [
       "3216"
      ]
     },
     "execution_count": 5,
     "metadata": {},
     "output_type": "execute_result"
    }
   ],
   "source": [
    "rle_id = parsed_json[0][\"annotations\"][0][\"result\"][128][\"value\"][\"rle\"]\n",
    "len(rle_id)"
   ]
  },
  {
   "cell_type": "code",
   "execution_count": null,
   "id": "bb4374c7-b281-4218-b068-f7a883e9f244",
   "metadata": {},
   "outputs": [],
   "source": []
  },
  {
   "cell_type": "code",
   "execution_count": null,
   "id": "7449ab49-ba29-4b2f-9dea-4350a2ea3538",
   "metadata": {},
   "outputs": [],
   "source": []
  },
  {
   "cell_type": "markdown",
   "id": "30e7b9ad-27c7-4de6-8d9f-49563602329b",
   "metadata": {},
   "source": [
    "### Main code"
   ]
  },
  {
   "cell_type": "code",
   "execution_count": null,
   "id": "a8d80e5b-a42e-48a9-b11e-af4096f41a3f",
   "metadata": {},
   "outputs": [],
   "source": [
    "from typing import List\n",
    "import numpy as np\n",
    "\n",
    "\n",
    "class InputStream:\n",
    "    def __init__(self, data):\n",
    "        self.data = data\n",
    "        self.i = 0\n",
    "\n",
    "    def read(self, size):\n",
    "        out = self.data[self.i:self.i + size]\n",
    "        self.i += size\n",
    "        return int(out, 2)\n",
    "\n",
    "\n",
    "def access_bit(data, num):\n",
    "    \"\"\" from bytes array to bits by num position\"\"\"\n",
    "    base = int(num // 8)\n",
    "    shift = 7 - int(num % 8)\n",
    "    return (data[base] & (1 << shift)) >> shift\n",
    "\n",
    "\n",
    "def bytes2bit(data):\n",
    "    \"\"\" get bit string from bytes data\"\"\"\n",
    "    return ''.join([str(access_bit(data, i)) for i in range(len(data) * 8)])\n",
    "\n",
    "\n",
    "def rle_to_mask(rle: List[int], height: int, width: int) -> np.array:\n",
    "    \"\"\"\n",
    "    Converts rle to image mask\n",
    "    Args:\n",
    "        rle: your long rle\n",
    "        height: original_height\n",
    "        width: original_width\n",
    "\n",
    "    Returns: np.array\n",
    "    \"\"\"\n",
    "\n",
    "    rle_input = InputStream(bytes2bit(rle))\n",
    "\n",
    "    num = rle_input.read(32)\n",
    "    word_size = rle_input.read(5) + 1\n",
    "    rle_sizes = [rle_input.read(4) + 1 for _ in range(4)]\n",
    "    # print('RLE params:', num, 'values,', word_size, 'word_size,', rle_sizes, 'rle_sizes')\n",
    "\n",
    "    i = 0\n",
    "    out = np.zeros(num, dtype=np.uint8)\n",
    "    while i < num:\n",
    "        x = rle_input.read(1)\n",
    "        j = i + 1 + rle_input.read(rle_sizes[rle_input.read(2)])\n",
    "        if x:\n",
    "            val = rle_input.read(word_size)\n",
    "            out[i:j] = val\n",
    "            i = j\n",
    "        else:\n",
    "            while i < j:\n",
    "                val = rle_input.read(word_size)\n",
    "                out[i] = val\n",
    "                i += 1\n",
    "\n",
    "    image = np.reshape(out, [height, width, 4])[:, :, 3]\n",
    "    return image"
   ]
  },
  {
   "cell_type": "code",
   "execution_count": null,
   "id": "891a870d-41d5-4a17-a87a-c3d7ee8e1de2",
   "metadata": {},
   "outputs": [],
   "source": [
    "from PIL import Image\n",
    "\n",
    "image = rle_to_mask(\n",
    "    rle_id,  # result['value']['rle']\n",
    "    original_height,  # result['original_height']\n",
    "    original_width # result['original_width']\n",
    ")\n",
    "\n",
    "print(image.shape)  # (original_height, original_width)\n",
    "\n",
    "Image.fromarray(image).show()"
   ]
  },
  {
   "cell_type": "code",
   "execution_count": null,
   "id": "4fadb0ce-ec51-4301-a53d-a67d6349214a",
   "metadata": {},
   "outputs": [],
   "source": []
  },
  {
   "cell_type": "code",
   "execution_count": null,
   "id": "4a8a32b7-d6d7-4c63-a225-dccf153332cb",
   "metadata": {},
   "outputs": [],
   "source": []
  },
  {
   "cell_type": "code",
   "execution_count": null,
   "id": "0d6e581c-ac83-4dec-a663-b7c76f112c40",
   "metadata": {},
   "outputs": [],
   "source": [
    "from PIL import Image\n",
    "\n",
    "\n",
    "class LSbrush_2_SematicSegm:\n",
    "    def __init__(self, full_path):\n",
    "        self.classes = {\"leaf\" :1, \"tomato\":2, \"stem\":3}\n",
    "        self.full_path = full_path\n",
    "        \n",
    "    def run(self, item_label):\n",
    "        original_width = item_label[\"annotations\"][0][\"result\"][0][\"original_width\"]\n",
    "        original_height = item_label[\"annotations\"][0][\"result\"][0][\"original_height\"]\n",
    "\n",
    "        # Base name\n",
    "        image_name = item_label['data']['image']\n",
    "        image_name = os.path.basename(image_name)\n",
    "\n",
    "        np_array_base = np.zeros([original_height, original_width], dtype=np.uint8)\n",
    "        \n",
    "        for result in item_label[\"annotations\"][0][\"result\"]:\n",
    "            rle = result[\"value\"][\"rle\"]\n",
    "            label = result[\"value\"][\"brushlabels\"][0]\n",
    "            print(f\"label {label}\")\n",
    "            value_label = self.classes[label]\n",
    "\n",
    "            image_np = rle_to_mask( rle,                               # result['value']['rle']\n",
    "                                    original_height,                   # result['original_height']\n",
    "                                    original_width).astype(np.uint8)   # result['original_width']  \n",
    "            \n",
    "            np_array_base[image_np != 0] = value_label\n",
    "            np_array_base=np_array_base.astype(np.uint8)\n",
    "        \n",
    "        full_path = os.path.join(self.full_path, image_name)\n",
    "        Image.fromarray(np_array_base).save(full_path)\n",
    "                 "
   ]
  },
  {
   "cell_type": "code",
   "execution_count": null,
   "id": "6b3acdd2-7f48-4254-b1f3-d79e38502dc2",
   "metadata": {
    "scrolled": true
   },
   "outputs": [],
   "source": [
    "import json\n",
    "import os\n",
    "\n",
    "path_labeled = \"/Users/YaVolkonskiy/Documents/001_Projects/003_tomato/001_data/001_raw_data/010_data_greenhouse_20_12_23/selected_images/Olga/project-21-at-2024-01-29-09-05-9fc962dd.json\"\n",
    "full_path = \"/Users/YaVolkonskiy/Documents/001_Projects/003_tomato/001_data/001_raw_data/010_data_greenhouse_20_12_23/selected_images/Olga/mask_labeles\"\n",
    "\n",
    "with open(path_labeled) as user_file:\n",
    "    parsed_json = json.load(user_file)\n",
    "\n",
    "for item_label in parsed_json:\n",
    "    c=LSbrush_2_SematicSegm(full_path)\n",
    "    c.run(item_label)\n"
   ]
  },
  {
   "cell_type": "code",
   "execution_count": null,
   "id": "eb4781eb-52b4-4f4b-a8c1-6dfc734121f5",
   "metadata": {},
   "outputs": [],
   "source": []
  },
  {
   "cell_type": "code",
   "execution_count": null,
   "id": "9e87b562-455d-4d20-b72d-3ce7789d33d7",
   "metadata": {},
   "outputs": [],
   "source": []
  },
  {
   "cell_type": "code",
   "execution_count": null,
   "id": "b0e36373-4084-4b2b-ad12-f420ec23d123",
   "metadata": {},
   "outputs": [],
   "source": []
  },
  {
   "cell_type": "code",
   "execution_count": null,
   "id": "725fd1c2-9e85-458c-8a8f-4ff7878a59d4",
   "metadata": {},
   "outputs": [],
   "source": []
  }
 ],
 "metadata": {
  "kernelspec": {
   "display_name": "Python 3 (ipykernel)",
   "language": "python",
   "name": "python3"
  },
  "language_info": {
   "codemirror_mode": {
    "name": "ipython",
    "version": 3
   },
   "file_extension": ".py",
   "mimetype": "text/x-python",
   "name": "python",
   "nbconvert_exporter": "python",
   "pygments_lexer": "ipython3",
   "version": "3.11.6"
  }
 },
 "nbformat": 4,
 "nbformat_minor": 5
}
