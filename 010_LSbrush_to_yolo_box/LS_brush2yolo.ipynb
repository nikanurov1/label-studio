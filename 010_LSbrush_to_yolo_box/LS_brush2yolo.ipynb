{
 "cells": [
  {
   "cell_type": "markdown",
   "id": "9f2838ee-470b-4caa-ab5a-57e34125922d",
   "metadata": {},
   "source": [
    "### Main code"
   ]
  },
  {
   "cell_type": "code",
   "execution_count": 1,
   "id": "06237710-2361-40f9-b311-229b3a065317",
   "metadata": {},
   "outputs": [],
   "source": [
    "from typing import List\n",
    "import numpy as np\n",
    "\n",
    "\n",
    "class InputStream:\n",
    "    def __init__(self, data):\n",
    "        self.data = data\n",
    "        self.i = 0\n",
    "\n",
    "    def read(self, size):\n",
    "        out = self.data[self.i:self.i + size]\n",
    "        self.i += size\n",
    "        return int(out, 2)\n",
    "\n",
    "\n",
    "def access_bit(data, num):\n",
    "    \"\"\" from bytes array to bits by num position\"\"\"\n",
    "    base = int(num // 8)\n",
    "    shift = 7 - int(num % 8)\n",
    "    return (data[base] & (1 << shift)) >> shift\n",
    "\n",
    "\n",
    "def bytes2bit(data):\n",
    "    \"\"\" get bit string from bytes data\"\"\"\n",
    "    return ''.join([str(access_bit(data, i)) for i in range(len(data) * 8)])\n",
    "\n",
    "\n",
    "def rle_to_mask(rle: List[int], height: int, width: int) -> np.array:\n",
    "    \"\"\"\n",
    "    Converts rle to image mask\n",
    "    Args:\n",
    "        rle: your long rle\n",
    "        height: original_height\n",
    "        width: original_width\n",
    "\n",
    "    Returns: np.array\n",
    "    \"\"\"\n",
    "\n",
    "    rle_input = InputStream(bytes2bit(rle))\n",
    "\n",
    "    num = rle_input.read(32)\n",
    "    word_size = rle_input.read(5) + 1\n",
    "    rle_sizes = [rle_input.read(4) + 1 for _ in range(4)]\n",
    "    # print('RLE params:', num, 'values,', word_size, 'word_size,', rle_sizes, 'rle_sizes')\n",
    "\n",
    "    i = 0\n",
    "    out = np.zeros(num, dtype=np.uint8)\n",
    "    while i < num:\n",
    "        x = rle_input.read(1)\n",
    "        j = i + 1 + rle_input.read(rle_sizes[rle_input.read(2)])\n",
    "        if x:\n",
    "            val = rle_input.read(word_size)\n",
    "            out[i:j] = val\n",
    "            i = j\n",
    "        else:\n",
    "            while i < j:\n",
    "                val = rle_input.read(word_size)\n",
    "                out[i] = val\n",
    "                i += 1\n",
    "\n",
    "    image = np.reshape(out, [height, width, 4])[:, :, 3]\n",
    "    return image"
   ]
  },
  {
   "cell_type": "code",
   "execution_count": 2,
   "id": "c889235b-d192-4a14-af2e-ddb11ab63b36",
   "metadata": {},
   "outputs": [],
   "source": [
    "# from PIL import Image\n",
    "\n",
    "# image = rle_to_mask(\n",
    "#     rle_id,  # result['value']['rle']\n",
    "#     original_height,  # result['original_height']\n",
    "#     original_width # result['original_width']\n",
    "# )\n",
    "\n",
    "# print(image.shape)  # (original_height, original_width)\n",
    "\n",
    "# Image.fromarray(image).show()"
   ]
  },
  {
   "cell_type": "code",
   "execution_count": 3,
   "id": "243e0e8d-4c3b-422e-936f-48e698d8bc55",
   "metadata": {},
   "outputs": [],
   "source": [
    "def cv2_rect_to_yolo(x1,x2,y1,y2, w_size, h_size):\n",
    "    w=(x2-x1)/w_size\n",
    "    h=(y2-y1)/h_size\n",
    "    x = x1/w_size + w/2\n",
    "    y = y1/h_size + h/2\n",
    "\n",
    "    return x,y,w,h\n",
    "\n",
    "\n",
    "def write_yolo(list_yolo_labels:List[List[int]], \n",
    "               path:str):\n",
    "    \"\"\"\n",
    "    list_yolo_labels =[ [clas, x, y, w, h], [clas, x, y, w, h] ] = List[  List[int, int, int, int, int]  ]\n",
    "    \"\"\"\n",
    "    str_data = \"\"\n",
    "    for i in list_yolo_labels: # clas, x, y, w, h\n",
    "        i=\" \".join(map(str, i))\n",
    "        str_data+=f\"\\n{i}\"\n",
    "\n",
    "    str_data=str_data.strip()+\"\\n\"\n",
    "    with open(path, \"w\") as text_file:\n",
    "        text_file.write(str_data)\n",
    "    print(\"file writed\")"
   ]
  },
  {
   "cell_type": "code",
   "execution_count": 4,
   "id": "232b53b8-4596-4bbe-84ac-70f38d546009",
   "metadata": {},
   "outputs": [],
   "source": [
    "def mask2yolo(arr):\n",
    "    \n",
    "    # print(f\"{arr.shape}\")\n",
    "    y_len, x_len = arr.shape\n",
    "\n",
    "    # find upper bound = Y1\n",
    "    for r in range(y_len):\n",
    "        if arr[r:r+1,:][0].sum()!=0:\n",
    "            upper_bound = r # y1\n",
    "            break\n",
    "\n",
    "\n",
    "    # find down bound = Y2\n",
    "    for r in reversed(range(y_len)):\n",
    "        # print(f\"r={r}\")\n",
    "        # print(f\"arr[r:r+1,:] {arr[r:r+1,:]}\")\n",
    "        if arr[r:r+1,:][0].sum()!=0:\n",
    "            down_bound = r+1 # y2\n",
    "            break\n",
    "\n",
    "    # find left bound = X1\n",
    "    for r in range(x_len):\n",
    "        # print(f\"r={r}\")\n",
    "        # print(f\"arr[:,r:r+1].sum() {arr[:,r:r+1].sum()}\")\n",
    "        if arr[:,r:r+1].sum()!=0:\n",
    "            left_bound = r # x1\n",
    "            break\n",
    "\n",
    "\n",
    "    # find right bound = X2\n",
    "    for r in reversed(range(x_len)):\n",
    "        if arr[:,r:r+1].sum()!=0:\n",
    "            right_bound = r+1 # x2\n",
    "            break\n",
    "    x1x2y1y2 = (left_bound, right_bound, upper_bound, down_bound)\n",
    "    return x1x2y1y2\n"
   ]
  },
  {
   "cell_type": "code",
   "execution_count": 5,
   "id": "536bab70-ca59-4cf6-9388-f117bde844be",
   "metadata": {},
   "outputs": [],
   "source": [
    "from PIL import Image\n",
    "\n",
    "from IPython.display import display\n",
    "\n",
    "class LSbrush_2_yolo:\n",
    "    def __init__(self, path_yolo_out, classes):\n",
    "        self.classes = classes# {\"leaf\" :0, \"tomato\":1, \"stem\":2}\n",
    "        self.path_yolo_out = path_yolo_out\n",
    "        \n",
    "    def run(self, item_label):\n",
    "        original_width = item_label[\"annotations\"][0][\"result\"][0][\"original_width\"]\n",
    "        original_height = item_label[\"annotations\"][0][\"result\"][0][\"original_height\"]\n",
    "\n",
    "        # Base name\n",
    "        image_name = item_label['data']['image']\n",
    "        image_name = os.path.basename(image_name)\n",
    "        base_name = image_name[:image_name.rfind(\".\")]\n",
    "        # print(f\"image_name {image_name}\")\n",
    "\n",
    "        # np_array_base = np.zeros([original_height, original_width], dtype=np.uint8)\n",
    "        list_yolo_labels=[]\n",
    "        \n",
    "        for result in item_label[\"annotations\"][0][\"result\"]:\n",
    "            rle = result[\"value\"][\"rle\"]\n",
    "            label = result[\"value\"][\"brushlabels\"][0]\n",
    "            cl_label = self.classes[label]\n",
    "\n",
    "            image_np = rle_to_mask( rle,                               # result['value']['rle']\n",
    "                                    original_height,                   # result['original_height']\n",
    "                                    original_width).astype(np.uint8)   # result['original_width']  \n",
    "\n",
    "            if image_np.max()==0:\n",
    "                continue\n",
    "            image_np[image_np != 0] = 254 # cl_label / value_label\n",
    "\n",
    "            img_seg=Image.fromarray(image_np)\n",
    "\n",
    "            # # Get value for cropp\n",
    "            x1,x2,y1,y2 = mask2yolo(image_np)\n",
    "\n",
    "            # Converting abolute rectangle point [x1,x2,y1,y2] to => relative yolo [x, y, w, h]\n",
    "            x,y,w,h = cv2_rect_to_yolo(x1,x2,y1,y2, original_width, original_height)\n",
    "            # Writing results to yolo label file\n",
    "            list_yolo_labels.append([cl_label, x, y, w, h])\n",
    "\n",
    "        path_yolo_label = os.path.join(self.path_yolo_out, f\"{base_name}.txt\")\n",
    "        write_yolo(list_yolo_labels, path_yolo_label)\n",
    "                 "
   ]
  },
  {
   "cell_type": "code",
   "execution_count": 6,
   "id": "d4f8c227-cf1b-4f75-b1c4-cb916a3ed1ab",
   "metadata": {
    "scrolled": true
   },
   "outputs": [
    {
     "name": "stderr",
     "output_type": "stream",
     "text": [
      " 11%|█████████████████▎                                                                                                                                          | 1/9 [00:12<01:38, 12.32s/it]"
     ]
    },
    {
     "name": "stdout",
     "output_type": "stream",
     "text": [
      "file writed\n"
     ]
    },
    {
     "name": "stderr",
     "output_type": "stream",
     "text": [
      " 22%|██████████████████████████████████▋                                                                                                                         | 2/9 [00:18<00:59,  8.56s/it]"
     ]
    },
    {
     "name": "stdout",
     "output_type": "stream",
     "text": [
      "file writed\n"
     ]
    },
    {
     "name": "stderr",
     "output_type": "stream",
     "text": [
      " 33%|████████████████████████████████████████████████████                                                                                                        | 3/9 [00:25<00:49,  8.17s/it]"
     ]
    },
    {
     "name": "stdout",
     "output_type": "stream",
     "text": [
      "file writed\n"
     ]
    },
    {
     "name": "stderr",
     "output_type": "stream",
     "text": [
      " 44%|█████████████████████████████████████████████████████████████████████▎                                                                                      | 4/9 [00:34<00:42,  8.43s/it]"
     ]
    },
    {
     "name": "stdout",
     "output_type": "stream",
     "text": [
      "file writed\n"
     ]
    },
    {
     "name": "stderr",
     "output_type": "stream",
     "text": [
      " 56%|██████████████████████████████████████████████████████████████████████████████████████▋                                                                     | 5/9 [00:39<00:28,  7.21s/it]"
     ]
    },
    {
     "name": "stdout",
     "output_type": "stream",
     "text": [
      "file writed\n"
     ]
    },
    {
     "name": "stderr",
     "output_type": "stream",
     "text": [
      " 67%|████████████████████████████████████████████████████████████████████████████████████████████████████████                                                    | 6/9 [00:50<00:25,  8.37s/it]"
     ]
    },
    {
     "name": "stdout",
     "output_type": "stream",
     "text": [
      "file writed\n"
     ]
    },
    {
     "name": "stderr",
     "output_type": "stream",
     "text": [
      " 78%|█████████████████████████████████████████████████████████████████████████████████████████████████████████████████████████▎                                  | 7/9 [00:57<00:15,  7.95s/it]"
     ]
    },
    {
     "name": "stdout",
     "output_type": "stream",
     "text": [
      "file writed\n"
     ]
    },
    {
     "name": "stderr",
     "output_type": "stream",
     "text": [
      " 89%|██████████████████████████████████████████████████████████████████████████████████████████████████████████████████████████████████████████▋                 | 8/9 [01:05<00:07,  7.95s/it]"
     ]
    },
    {
     "name": "stdout",
     "output_type": "stream",
     "text": [
      "file writed\n"
     ]
    },
    {
     "name": "stderr",
     "output_type": "stream",
     "text": [
      "100%|████████████████████████████████████████████████████████████████████████████████████████████████████████████████████████████████████████████████████████████| 9/9 [01:08<00:00,  7.65s/it]"
     ]
    },
    {
     "name": "stdout",
     "output_type": "stream",
     "text": [
      "file writed\n"
     ]
    },
    {
     "name": "stderr",
     "output_type": "stream",
     "text": [
      "\n"
     ]
    }
   ],
   "source": [
    "import json\n",
    "import os\n",
    "from tqdm import tqdm\n",
    "\n",
    "path_labeled = \"/Users/YaVolkonskiy/Documents/001_Projects/003_tomato/001_data/001_raw_data/010_data_greenhouse_20_12_23/selected_images/Olga/project-21-at-2024-01-29-09-05-9fc962dd.json\"\n",
    "path_yolo_out = \"/Users/YaVolkonskiy/Documents/001_Projects/003_tomato/001_data/001_raw_data/010_data_greenhouse_20_12_23/selected_images/Olga/yolo\"\n",
    "classes = {\"leaf\" :0, \"tomato\":1, \"stem\":2}\n",
    "\n",
    "with open(path_labeled) as user_file:\n",
    "    parsed_json = json.load(user_file)\n",
    "\n",
    "for item_label in tqdm(parsed_json):\n",
    "    c=LSbrush_2_yolo(path_yolo_out, classes)\n",
    "    image_np=c.run(item_label)\n"
   ]
  },
  {
   "cell_type": "code",
   "execution_count": null,
   "id": "be48ac6c-29a9-411d-b979-9b8b2e281e04",
   "metadata": {},
   "outputs": [],
   "source": []
  },
  {
   "cell_type": "markdown",
   "id": "2bec3c0e-726b-4d92-975f-6437a76ab4c4",
   "metadata": {},
   "source": [
    "### Train test scripts"
   ]
  },
  {
   "cell_type": "code",
   "execution_count": null,
   "id": "bc7500b2-cbab-4d0d-9830-7dd9344c5ee2",
   "metadata": {},
   "outputs": [],
   "source": [
    "image_np.max()"
   ]
  },
  {
   "cell_type": "code",
   "execution_count": null,
   "id": "68c1daeb-d8e9-4a6b-9798-6e4cf8ff24a5",
   "metadata": {},
   "outputs": [],
   "source": []
  },
  {
   "cell_type": "code",
   "execution_count": null,
   "id": "0c23c07a-f7cc-44c3-8d74-6b2fab3c43f1",
   "metadata": {},
   "outputs": [],
   "source": []
  },
  {
   "cell_type": "code",
   "execution_count": null,
   "id": "f2f8dd16-965c-4e1d-ab0e-8626056425fc",
   "metadata": {
    "scrolled": true
   },
   "outputs": [],
   "source": [
    "arr = np.zeros([12,6])\n",
    "arr[4:7,3:5]=1\n",
    "arr"
   ]
  },
  {
   "cell_type": "code",
   "execution_count": null,
   "id": "11f44e0a-bd04-49de-b38c-0e792d86af36",
   "metadata": {
    "scrolled": true
   },
   "outputs": [],
   "source": [
    "# arr[11][-1]=100\n",
    "# arr[11][-2]=99\n",
    "# arr[10][-2]=98\n",
    "# arr[0][0]=50\n",
    "\n",
    "\n",
    "arr"
   ]
  },
  {
   "cell_type": "code",
   "execution_count": null,
   "id": "a08e40ff-7380-4748-9e42-7dc007e66f78",
   "metadata": {},
   "outputs": [],
   "source": [
    "arr"
   ]
  },
  {
   "cell_type": "code",
   "execution_count": null,
   "id": "d8f9ea46-9eeb-4f39-99ea-20c3ac12cd13",
   "metadata": {},
   "outputs": [],
   "source": [
    "\n",
    "\n",
    "# mask2yolo(arr)    "
   ]
  },
  {
   "cell_type": "code",
   "execution_count": null,
   "id": "d2c5ae45-1e63-4788-a8ac-73dacff930ee",
   "metadata": {},
   "outputs": [],
   "source": [
    "x1,x2,y1,y2 =mask2yolo(arr) \n",
    "print(f\"x1,x2,y1,y2 {x1,x2,y1,y2}\")\n",
    "arr[y1:y2, x1:x2]"
   ]
  },
  {
   "cell_type": "code",
   "execution_count": null,
   "id": "9e8b866e-3859-4955-9fc3-da7875105d3d",
   "metadata": {},
   "outputs": [],
   "source": [
    "r=1\n",
    "arr[:,r:r+1][0]"
   ]
  },
  {
   "cell_type": "code",
   "execution_count": null,
   "id": "7e851c33-c4c0-4b9d-95a1-32e4c669bc7a",
   "metadata": {},
   "outputs": [],
   "source": [
    "arr[:,4:11]"
   ]
  },
  {
   "cell_type": "code",
   "execution_count": null,
   "id": "91957496-fc5e-412c-b6cf-014eb1eb04e6",
   "metadata": {},
   "outputs": [],
   "source": [
    "image_np[8:9,:]"
   ]
  },
  {
   "cell_type": "code",
   "execution_count": null,
   "id": "91964d7e-8dd6-4da7-927c-2959bc4b243c",
   "metadata": {},
   "outputs": [],
   "source": [
    "arr"
   ]
  },
  {
   "cell_type": "code",
   "execution_count": null,
   "id": "0d3a6fde-1416-4f41-9b54-731aa6bd926b",
   "metadata": {},
   "outputs": [],
   "source": [
    "a=[0,1,2,3,4]\n",
    "\n",
    "\" \".join(map(str, a))"
   ]
  },
  {
   "cell_type": "code",
   "execution_count": null,
   "id": "fcf01700-f405-4920-913d-be762f7361bc",
   "metadata": {},
   "outputs": [],
   "source": [
    "a = \"image_name 148.png\"\n",
    "\n",
    "a[:a.rfind(\".\")]"
   ]
  },
  {
   "cell_type": "code",
   "execution_count": null,
   "id": "aafb8422-65b4-406a-aac5-7af5eb087683",
   "metadata": {},
   "outputs": [],
   "source": []
  }
 ],
 "metadata": {
  "kernelspec": {
   "display_name": "Python 3 (ipykernel)",
   "language": "python",
   "name": "python3"
  },
  "language_info": {
   "codemirror_mode": {
    "name": "ipython",
    "version": 3
   },
   "file_extension": ".py",
   "mimetype": "text/x-python",
   "name": "python",
   "nbconvert_exporter": "python",
   "pygments_lexer": "ipython3",
   "version": "3.11.6"
  }
 },
 "nbformat": 4,
 "nbformat_minor": 5
}
