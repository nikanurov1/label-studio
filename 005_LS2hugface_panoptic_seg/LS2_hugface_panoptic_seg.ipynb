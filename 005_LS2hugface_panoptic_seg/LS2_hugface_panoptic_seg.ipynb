{
 "cells": [
  {
   "cell_type": "code",
   "execution_count": 1,
   "id": "d98ea5da-a2e1-4550-a1e8-1a407aa1eec9",
   "metadata": {},
   "outputs": [],
   "source": [
    "import numpy as np\n",
    "import os\n",
    "import json\n",
    "import cv2 as cv\n",
    "import shutil"
   ]
  },
  {
   "cell_type": "markdown",
   "id": "6801f563-563e-44ec-9ee0-b1e8e2789977",
   "metadata": {},
   "source": [
    "## Set labeled imgs"
   ]
  },
  {
   "cell_type": "code",
   "execution_count": 2,
   "id": "19596eeb-f2cf-41eb-8705-e34e023da4c0",
   "metadata": {},
   "outputs": [],
   "source": [
    "selected_images={\"GX010034_14.jpg\",\n",
    "                 \"GX010040_19.jpg\",\n",
    "                 \"GX010034_10.jpg\",\n",
    "                 \"GX010035_50.jpg\",\n",
    "                 \"GX010044_4.jpg\",\n",
    "                 \"GX010038_1.jpg\",\n",
    "                 \"GX010045_15.jpg\",\n",
    "                 \"GX010046_6.jpg\",\n",
    "                 \"GX010045_17.jpg\",\n",
    "                 \"GX010044_6.jpg\",\n",
    "                 \"GX010045_17.jpg\",\n",
    "                 \"GX010044_6.jpg\",\n",
    "                 \"GX010040_31.jpg\",\n",
    "                 \"GX010038_17.jpg\",\n",
    "                 \"GX010045_29.jpg\",\n",
    "                 \"GX010044_5.jpg\",\n",
    "                 \"GX010040_3.jpg\",\n",
    "                 \"GX010042_1.jpg\",\n",
    "                 \"GX010032_8.jpg\"}\n",
    "\n",
    "path_image=\"/Users/YaVolkonskiy/Documents/Projects/tomato/data/001_raw_data/001_video_data/002_GO_PRO_SBER_20231101_ALL/labeled_Olga_Gelya_21_11_23/img_selected/\""
   ]
  },
  {
   "cell_type": "markdown",
   "id": "99004fb0-8ba0-4698-a631-fdfbf0604401",
   "metadata": {},
   "source": [
    "## Load labeled LS anot "
   ]
  },
  {
   "cell_type": "code",
   "execution_count": 3,
   "id": "fb816427-43db-4c68-b335-f6f885734008",
   "metadata": {},
   "outputs": [],
   "source": [
    "# pth_name = \"project-13-at-2023-11-21-11-39-a223ddf0.json\"\n",
    "pth_name =\"/Users/YaVolkonskiy/Documents/Projects/tomato/data/001_raw_data/001_video_data/002_GO_PRO_SBER_20231101_ALL/labeled_Olga_Gelya_21_11_23/project-13-at-2023-11-21-11-39-a223ddf0.json\"\n",
    "\n",
    "with open(pth_name) as user_file:\n",
    "    parsed_json = json.load(user_file)\n",
    "\n",
    "\n",
    "# Select just labeled agree with set\n",
    "need_labels= []\n",
    "\n",
    "for n in parsed_json:\n",
    "    if os.path.basename(n['data']['image']) in selected_images:\n",
    "        need_labels.append(n)"
   ]
  },
  {
   "cell_type": "markdown",
   "id": "4a1f9eb2-7f3b-4e0a-b058-411b9f1ebd05",
   "metadata": {},
   "source": [
    "## Pipe convert LS to panoptic_seg"
   ]
  },
  {
   "cell_type": "code",
   "execution_count": 4,
   "id": "96cd40b5-e67a-4ea8-b2fc-1d5e285e1be6",
   "metadata": {},
   "outputs": [],
   "source": [
    "def relative2absalute(np_arr, resolution_orig):\n",
    "    np_arr_abs = np.copy(np_arr)\n",
    "    np_arr_abs[:,:1] = np_arr_abs[:,:1]/100*resolution_orig[1]\n",
    "    np_arr_abs[:,1:] = np_arr_abs[:,1:]/100*resolution_orig[0]\n",
    "    # np_arr_abs=np.rint(np_arr_abs).astype(np.int32)\n",
    "    np_arr_abs=np.rint(np_arr_abs).astype(np.int32)\n",
    "\n",
    "    return np_arr_abs\n",
    "\n",
    "def get_resolution(one_imgObj_LS):\n",
    "    w_orig = one_imgObj_LS[\"annotations\"][0]['result'][0]['original_width']\n",
    "    h_orig = one_imgObj_LS[\"annotations\"][0]['result'][0]['original_height']\n",
    "    resolution_orig = (h_orig,w_orig)\n",
    "    return resolution_orig\n",
    "\n",
    "def LS2panoptic_map(one_imgObj_LS, classes):\n",
    "    init_id=2\n",
    "    resolution_orig=get_resolution(one_imgObj_LS)\n",
    "    full_mask = np.zeros(shape=resolution_orig, dtype=np.uint32)\n",
    "    inst2class = {}\n",
    "    \n",
    "    for result in one_imgObj_LS[\"annotations\"][0][\"result\"]:\n",
    "        points=result[\"value\"]['points']\n",
    "        np_polyg=np.array( [np.array(i) for i in points] )\n",
    "        # Convert relative points to absolute\n",
    "        np_polyg_abs=relative2absalute(np_polyg, resolution_orig)\n",
    "        # Add dimension polyg\n",
    "        np_polyg_abs=np_polyg_abs[np.newaxis, ... ] \n",
    "        # Create temporaty mask\n",
    "        mask = np.zeros(shape=resolution_orig, dtype=np.uint8)\n",
    "        # we can't use here number more than 255 fot this cv.fillPoly functione there fore we fill value=1, then will replace it to => init_ids\n",
    "        filled_mask = cv.fillPoly(mask, pts=np_polyg_abs, color=1)\n",
    "\n",
    "        # fill filled_mask by target id\n",
    "        filled_mask=filled_mask.astype(np.uint32)\n",
    "        filled_mask[filled_mask == 1] = init_id\n",
    "        # join full_mask and curent filed mask\n",
    "        full_mask[filled_mask == init_id] = init_id\n",
    "        # fill inst2class\n",
    "        name_label = result[\"value\"][\"polygonlabels\"][0]\n",
    "        # print(f\"name_label {name_label}\")\n",
    "        inst2class[init_id] = classes[name_label]\n",
    "        init_id+=1\n",
    "\n",
    "    return full_mask, inst2class\n"
   ]
  },
  {
   "cell_type": "markdown",
   "id": "f255fbb9-cdef-4ba7-8473-6e7314e88287",
   "metadata": {},
   "source": [
    "## Pipe prepare"
   ]
  },
  {
   "cell_type": "code",
   "execution_count": null,
   "id": "76b2288f-1edb-4898-b3a8-a36d60e5a420",
   "metadata": {},
   "outputs": [],
   "source": [
    "schem panoptic_seg_gt\n",
    "\n",
    "panoptic_seg_gt = {\n",
    "                   \"GX010032_8.jpg\"\n",
    "                           :{\"panoptic_mask\": np.ndarray,\n",
    "                              \"inst2class\": dict_inst2class},\n",
    "                   \"GX010034_10.jpg\"\n",
    "                           :{\"panoptic_mask\": np.ndarray,\n",
    "                              \"inst2class\": dict_inst2class},\n",
    "#                   .....\n",
    "#                   .....\n",
    "                   \"GX010034_14.jpg\"\n",
    "                           :{\"panoptic_mask\": np.ndarray,\n",
    "                              \"inst2class\": dict_inst2class}\n",
    "                  }\n",
    "\n",
    "panoptic_mask = (\n",
    "      [[  43,   43,   43, ...,   98,   98,   98],\n",
    "       [  7,    43,   43, ...,   67,   98,   98],\n",
    "       [  7,     7,    7, ...,   67,   98,   98],\n",
    "       ...,\n",
    "       [  139,   139,   139, ..., 108, 108, 108],\n",
    "       [  19,     19,   139, ..., 108, 108, 108],\n",
    "       [  19,     19,   139, ..., 108, 108, 108]], dtype=uint32)\n",
    "\n",
    "panoptic_mask.shape = np.array (x,y)\n",
    "\n",
    "\n",
    "inst2class = {43:  2,  7: 5,\n",
    "              98:  30, 67: 5, \n",
    "              .....\n",
    "              139: 17, 108: 11}\n",
    "\n",
    "## not nescseary\n",
    "id2label = {0: 'wall', 1: 'building', 2: 'sky', 3: 'floor', 4: 'tree', 5: 'ceiling', 6: 'road', 7: 'bed ', 8: 'windowpane', \n",
    "            9: 'grass', 10: 'cabinet', 11: 'sidewalk', 12: 'person', 13: 'earth', 14: 'door', 15: 'table', 16: 'mountain', \n",
    "            17: 'plant', 18: 'curtain', 19: 'chair', 20: 'car', 21: 'water', 22: 'painting', 23: 'sofa', 24: 'shelf', 25: 'house', \n",
    "            26: 'sea', 27: 'mirror', 28: 'rug', 29: 'field', 30: 'armchair', 31: 'seat', 32: 'fence', 33: 'desk', 34: 'rock', \n",
    "            35: 'wardrobe', 36: 'lamp', 37: 'bathtub', 38: 'railing', 39: 'cushion', 40: 'base', 41: 'box', 42: 'column', \n",
    "            43: 'signboard', 44: 'chest of drawers', 45: 'counter', 46: 'sand', 47: 'sink', 48: 'skyscraper', 49: 'fireplace', \n",
    "            50: 'refrigerator', 51: 'grandstand', 52: 'path', 53: 'stairs', 54: 'runway', 55: 'case', 56: 'pool table', 57: 'pillow', \n",
    "            58: 'screen door', 59: 'stairway', 60: 'river', 61: 'bridge', 62: 'bookcase', 63: 'blind', 64: 'coffee table', 65: 'toilet', \n",
    "            66: 'flower', 67: 'book', 68: 'hill', 69: 'bench', 70: 'countertop', 71: 'stove', 72: 'palm', 73: 'kitchen island', 74: 'computer', \n",
    "            75: 'swivel chair', 76: 'boat', 77: 'bar', 78: 'arcade machine', 79: 'hovel', 80: 'bus', 81: 'towel', 82: 'light', 83: 'truck', \n",
    "            84: 'tower', 85: 'chandelier', 86: 'awning', 87: 'streetlight', 88: 'booth', 89: 'television receiver', 90: 'airplane', \n",
    "            91: 'dirt track', 92: 'apparel', 93: 'pole', 94: 'land', 95: 'bannister', 96: 'escalator', 97: 'ottoman', 98: 'bottle', \n",
    "            99: 'buffet', 100: 'poster', 101: 'stage', 102: 'van', 103: 'ship', 104: 'fountain', 105: 'conveyer belt', 106: 'canopy', \n",
    "            107: 'washer', 108: 'plaything', 109: 'swimming pool', 110: 'stool', 111: 'barrel', 112: 'basket', 113: 'waterfall', 114: 'tent', \n",
    "            115: 'bag', 116: 'minibike', 117: 'cradle', 118: 'oven', 119: 'ball', 120: 'food', 121: 'step', 122: 'tank', 123: 'trade name', \n",
    "            124: 'microwave', 125: 'pot', 126: 'animal', 127: 'bicycle', 128: 'lake', 129: 'dishwasher', 130: 'screen', 131: 'blanket', \n",
    "            132: 'sculpture', 133: 'hood', 134: 'sconce', 135: 'vase', 136: 'traffic light', 137: 'tray', 138: 'ashcan', 139: 'fan', \n",
    "            140: 'pier', 141: 'crt screen', 142: 'plate', 143: 'monitor', 144: 'bulletin board', 145: 'shower', 146: 'radiator', 147: 'glass', \n",
    "            148: 'clock', 149: 'flag'}"
   ]
  },
  {
   "cell_type": "code",
   "execution_count": 5,
   "id": "903f9576-344c-4dca-a295-05a170284740",
   "metadata": {},
   "outputs": [],
   "source": [
    "panoptic_seg_gt={}\n",
    "classes = { \"leaf\":0,\n",
    "            \"stem\":1,\n",
    "            \"tomato\":2}\n",
    "\n",
    "for one_imgObj_LS in need_labels:\n",
    "    name_image = os.path.basename(one_imgObj_LS['data']['image'])\n",
    "    panoptic_mask, inst2class = LS2panoptic_map(one_imgObj_LS, classes)\n",
    "\n",
    "    panoptic_seg_gt[name_image] = {\"panoptic_mask\" : panoptic_mask,\n",
    "                                  \"inst2class\" : inst2class}"
   ]
  },
  {
   "cell_type": "code",
   "execution_count": 6,
   "id": "3f78fe55-21be-4953-a00c-6a5efdbd7c2d",
   "metadata": {
    "scrolled": true
   },
   "outputs": [
    {
     "data": {
      "text/plain": [
       "17"
      ]
     },
     "execution_count": 6,
     "metadata": {},
     "output_type": "execute_result"
    }
   ],
   "source": [
    "len(panoptic_seg_gt)"
   ]
  },
  {
   "cell_type": "code",
   "execution_count": null,
   "id": "fab51de5-0550-4819-bbee-a8fe3b6a2b92",
   "metadata": {},
   "outputs": [],
   "source": [
    "import pickle\n",
    "\n",
    "path_to_save = \"/Users/YaVolkonskiy/Documents/Projects/tomato/data/001_raw_data/001_video_data/002_GO_PRO_SBER_20231101_ALL/labeled_Olga_Gelya_21_11_23/panoptic_mask2former.pickle\"\n",
    "with open(path_to_save, 'wb') as f:\n",
    "    # Pickle the 'data' dictionary using the highest protocol available.\n",
    "    pickle.dump(panoptic_seg_gt, f, pickle.HIGHEST_PROTOCOL)"
   ]
  },
  {
   "cell_type": "markdown",
   "id": "e9fed4fc-f017-4102-ac14-0008d19fddf1",
   "metadata": {},
   "source": [
    "### Another previos labels"
   ]
  },
  {
   "cell_type": "code",
   "execution_count": 7,
   "id": "7eff7fa8-4305-4001-8ac5-4a15e0c9a5ee",
   "metadata": {},
   "outputs": [],
   "source": [
    "selected_images={\"GX010027_42.jpg\",\n",
    "                 \"GX010027_1.jpg\",\n",
    "                 \"GX010028_70.jpg\",\n",
    "                 \"GX010020_89.jpg\",\n",
    "                 \"GX010027_6.jpg\",\n",
    "                 \"GX010017_20.jpg\",\n",
    "                 \"GX010023_34.jpg\",\n",
    "                 \"GX010027_46.jpg\",\n",
    "                 \"GX010018_63.jpg\",\n",
    "                 \"GX010026_12.jpg\",\n",
    "                 \"GX010024_4.jpg\",\n",
    "                 \"GX010025_60.jpg\",\n",
    "                 \"GX010028_20.jpg\",\n",
    "                 \"GX010018_9.jpg\",\n",
    "                 \"GX010021_34.jpg\", # from this point new labels\n",
    "                 \"GX010027_37.jpg\",\n",
    "                 \"GX010019_6.jpg\",\n",
    "                 \"GX010023_13.jpg\",\n",
    "                 \"GX010020_43.jpg\",\n",
    "                 \"GX010023_55.jpg\",\n",
    "                 \"GX010019_85.jpg\",\n",
    "                 \"GX010026_73.jpg\",\n",
    "                 \"GX010027_24.jpg\",\n",
    "                 \"GX010027_19.jpg\",\n",
    "                 \"GX010020_10.jpg\",\n",
    "                 \"GX010028_60.jpg\",\n",
    "                 \"GX010027_28.jpg\"\n",
    "                 }"
   ]
  },
  {
   "cell_type": "code",
   "execution_count": null,
   "id": "3a23fb90-73ed-4e2b-8d5b-3076661f1f98",
   "metadata": {},
   "outputs": [],
   "source": [
    "len(selected_images)"
   ]
  },
  {
   "cell_type": "code",
   "execution_count": 8,
   "id": "7e538ca0-cbab-4329-8218-bda206e4fc64",
   "metadata": {},
   "outputs": [],
   "source": [
    "# pth_name = \"project-13-at-2023-11-21-11-39-a223ddf0.json\"\n",
    "pth_name =\"/Users/YaVolkonskiy/Documents/Projects/tomato/data/001_raw_data/001_video_data/001_sber_video/003_labels/002_labeled_studio_LEAF_TOMATO_15.11.23/project-8-at-2023-11-15-17-09-e7686567.json\"\n",
    "\n",
    "with open(pth_name) as user_file:\n",
    "    parsed_json = json.load(user_file)\n",
    "\n",
    "\n",
    "# Select just labeled agree with set\n",
    "need_labels= []\n",
    "\n",
    "for n in parsed_json:\n",
    "    if os.path.basename(n['data']['image']) in selected_images:\n",
    "        need_labels.append(n)"
   ]
  },
  {
   "cell_type": "code",
   "execution_count": 9,
   "id": "ee3b8794-9e97-49a3-8faa-24cab878ff9c",
   "metadata": {},
   "outputs": [],
   "source": [
    "# panoptic_seg_gt={}\n",
    "classes = { \"leaf\":0,\n",
    "            \"stem\":1,\n",
    "            \"tomato\":2}\n",
    "\n",
    "for one_imgObj_LS in need_labels:\n",
    "    name_image = os.path.basename(one_imgObj_LS['data']['image'])\n",
    "    panoptic_mask, inst2class = LS2panoptic_map(one_imgObj_LS, classes)\n",
    "\n",
    "    panoptic_seg_gt[name_image] = {\"panoptic_mask\" : panoptic_mask,\n",
    "                                  \"inst2class\" : inst2class}"
   ]
  },
  {
   "cell_type": "code",
   "execution_count": 10,
   "id": "4516ef51-3e84-4b10-8ed7-03270a43f51f",
   "metadata": {},
   "outputs": [
    {
     "data": {
      "text/plain": [
       "44"
      ]
     },
     "execution_count": 10,
     "metadata": {},
     "output_type": "execute_result"
    }
   ],
   "source": [
    "len(panoptic_seg_gt)"
   ]
  },
  {
   "cell_type": "code",
   "execution_count": 11,
   "id": "f29733fc-922c-4b1a-8f61-366907302592",
   "metadata": {},
   "outputs": [],
   "source": [
    "import pickle\n",
    "\n",
    "path_to_save = \"/Users/YaVolkonskiy/Documents/Projects/tomato/data/002_data_experiments/004_train_Mask2Former_panoptic_23_10_23/panoptic_mask2former.pickle\"\n",
    "with open(path_to_save, 'wb') as f:\n",
    "    # Pickle the 'data' dictionary using the highest protocol available.\n",
    "    pickle.dump(panoptic_seg_gt, f, pickle.HIGHEST_PROTOCOL)"
   ]
  },
  {
   "cell_type": "code",
   "execution_count": null,
   "id": "21578d4c-1519-4064-af18-2c8d25210b40",
   "metadata": {},
   "outputs": [],
   "source": []
  }
 ],
 "metadata": {
  "kernelspec": {
   "display_name": "Python 3 (ipykernel)",
   "language": "python",
   "name": "python3"
  },
  "language_info": {
   "codemirror_mode": {
    "name": "ipython",
    "version": 3
   },
   "file_extension": ".py",
   "mimetype": "text/x-python",
   "name": "python",
   "nbconvert_exporter": "python",
   "pygments_lexer": "ipython3",
   "version": "3.9.6"
  }
 },
 "nbformat": 4,
 "nbformat_minor": 5
}
