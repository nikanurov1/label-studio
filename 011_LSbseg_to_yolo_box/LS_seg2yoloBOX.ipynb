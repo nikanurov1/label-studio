{
 "cells": [
  {
   "cell_type": "markdown",
   "id": "9f2838ee-470b-4caa-ab5a-57e34125922d",
   "metadata": {},
   "source": [
    "### Main code"
   ]
  },
  {
   "cell_type": "code",
   "execution_count": null,
   "id": "c889235b-d192-4a14-af2e-ddb11ab63b36",
   "metadata": {},
   "outputs": [],
   "source": [
    "# from PIL import Image\n",
    "\n",
    "# image = rle_to_mask(\n",
    "#     rle_id,  # result['value']['rle']\n",
    "#     original_height,  # result['original_height']\n",
    "#     original_width # result['original_width']\n",
    "# )\n",
    "\n",
    "# print(image.shape)  # (original_height, original_width)\n",
    "\n",
    "# Image.fromarray(image).show()"
   ]
  },
  {
   "cell_type": "code",
   "execution_count": 1,
   "id": "243e0e8d-4c3b-422e-936f-48e698d8bc55",
   "metadata": {},
   "outputs": [],
   "source": [
    "from typing import List\n",
    "\n",
    "def cv2_rect_to_yolo(x1,x2,y1,y2, w_size, h_size):\n",
    "    w=(x2-x1)/w_size\n",
    "    h=(y2-y1)/h_size\n",
    "    x = x1/w_size + w/2\n",
    "    y = y1/h_size + h/2\n",
    "\n",
    "    return x,y,w,h\n",
    "\n",
    "\n",
    "def write_yolo(list_yolo_labels:List[List[int]], \n",
    "               path:str):\n",
    "    \"\"\"\n",
    "    list_yolo_labels =[ [clas, x, y, w, h], [clas, x, y, w, h] ] = List[  List[int, int, int, int, int]  ]\n",
    "    \"\"\"\n",
    "    str_data = \"\"\n",
    "    for i in list_yolo_labels: # clas, x, y, w, h\n",
    "        i=\" \".join(map(str, i))\n",
    "        str_data+=f\"\\n{i}\"\n",
    "\n",
    "    str_data=str_data.strip()+\"\\n\"\n",
    "    with open(path, \"w\") as text_file:\n",
    "        text_file.write(str_data)\n",
    "    print(\"file writed\")"
   ]
  },
  {
   "cell_type": "code",
   "execution_count": 2,
   "id": "232b53b8-4596-4bbe-84ac-70f38d546009",
   "metadata": {},
   "outputs": [],
   "source": [
    "def mask2yolo(arr):\n",
    "    \n",
    "    # print(f\"{arr.shape}\")\n",
    "    y_len, x_len = arr.shape\n",
    "\n",
    "    # find upper bound = Y1\n",
    "    for r in range(y_len):\n",
    "        if arr[r:r+1,:][0].sum()!=0:\n",
    "            upper_bound = r # y1\n",
    "            break\n",
    "\n",
    "\n",
    "    # find down bound = Y2\n",
    "    for r in reversed(range(y_len)):\n",
    "        # print(f\"r={r}\")\n",
    "        # print(f\"arr[r:r+1,:] {arr[r:r+1,:]}\")\n",
    "        if arr[r:r+1,:][0].sum()!=0:\n",
    "            down_bound = r+1 # y2\n",
    "            break\n",
    "\n",
    "    # find left bound = X1\n",
    "    for r in range(x_len):\n",
    "        # print(f\"r={r}\")\n",
    "        # print(f\"arr[:,r:r+1].sum() {arr[:,r:r+1].sum()}\")\n",
    "        if arr[:,r:r+1].sum()!=0:\n",
    "            left_bound = r # x1\n",
    "            break\n",
    "\n",
    "\n",
    "    # find right bound = X2\n",
    "    for r in reversed(range(x_len)):\n",
    "        if arr[:,r:r+1].sum()!=0:\n",
    "            right_bound = r+1 # x2\n",
    "            break\n",
    "    x1x2y1y2 = (left_bound, right_bound, upper_bound, down_bound)\n",
    "    return x1x2y1y2\n"
   ]
  },
  {
   "cell_type": "code",
   "execution_count": 3,
   "id": "3315b068-287b-4ee1-a94e-f29878d2cc2e",
   "metadata": {},
   "outputs": [],
   "source": [
    "def relative2absalute(np_arr, resolution_orig):\n",
    "    np_arr_abs = np.copy(np_arr)\n",
    "    np_arr_abs[:,:1] = np_arr_abs[:,:1]/100*resolution_orig[1]\n",
    "    np_arr_abs[:,1:] = np_arr_abs[:,1:]/100*resolution_orig[0]\n",
    "    # np_arr_abs=np.rint(np_arr_abs).astype(np.int32)\n",
    "    np_arr_abs=np.rint(np_arr_abs).astype(np.int32)\n",
    "\n",
    "    return np_arr_abs\n",
    "\n",
    "\n",
    "def get_resolution(one_imgObj_LS):\n",
    "    w_orig = one_imgObj_LS[\"annotations\"][0]['result'][0]['original_width']\n",
    "    h_orig = one_imgObj_LS[\"annotations\"][0]['result'][0]['original_height']\n",
    "    resolution_orig = (h_orig,w_orig)\n",
    "    return resolution_orig"
   ]
  },
  {
   "cell_type": "code",
   "execution_count": 4,
   "id": "536bab70-ca59-4cf6-9388-f117bde844be",
   "metadata": {},
   "outputs": [],
   "source": [
    "from PIL import Image\n",
    "import numpy as np\n",
    "import cv2 as cv\n",
    "\n",
    "from IPython.display import display\n",
    "\n",
    "class LSseg_2_yolo:\n",
    "    def __init__(self, path_yolo_out, classes):\n",
    "        self.classes = classes# {\"leaf\" :0, \"tomato\":1, \"stem\":2}\n",
    "        self.path_yolo_out = path_yolo_out\n",
    "        \n",
    "    def run(self, item_label):\n",
    "        original_width = item_label[\"annotations\"][0][\"result\"][0][\"original_width\"]\n",
    "        original_height = item_label[\"annotations\"][0][\"result\"][0][\"original_height\"]\n",
    "\n",
    "        # Base name\n",
    "        image_name = item_label['data']['image']\n",
    "        image_name = os.path.basename(image_name)\n",
    "        base_name = image_name[:image_name.rfind(\".\")]\n",
    "        # print(f\"image_name {image_name}\")\n",
    "\n",
    "        # np_array_base = np.zeros([original_height, original_width], dtype=np.uint8)\n",
    "        list_yolo_labels=[]\n",
    "\n",
    "        resolution_orig=get_resolution(item_label)\n",
    "        \n",
    "        for result in item_label[\"annotations\"][0][\"result\"]:\n",
    "            # Labels classes\n",
    "            label = result[\"value\"][\"polygonlabels\"][0]\n",
    "            cl_label = self.classes[label]\n",
    "        \n",
    "            points=result[\"value\"]['points']\n",
    "            np_polyg=np.array( [np.array(i) for i in points] )\n",
    "            # Convert relative points to absolute\n",
    "            np_polyg_abs=relative2absalute(np_polyg, resolution_orig)\n",
    "            # Add dimension polyg\n",
    "            np_polyg_abs=np_polyg_abs[np.newaxis, ... ] \n",
    "            # Create temporaty mask\n",
    "            mask = np.zeros(shape=resolution_orig, dtype=np.uint8)\n",
    "\n",
    "            image_np = cv.fillPoly(mask, pts=np_polyg_abs, color=254)\n",
    "            # img_pill = Image.fromarray(filled_mask)\n",
    "            # display(img_pill)\n",
    "        \n",
    "            if image_np.max()==0:\n",
    "                continue\n",
    "            image_np[image_np != 0] = 254 # cl_label / value_label\n",
    "\n",
    "            img_seg=Image.fromarray(image_np)\n",
    "\n",
    "            # # Get value for cropp\n",
    "            x1,x2,y1,y2 = mask2yolo(image_np)\n",
    "\n",
    "            # Converting abolute rectangle point [x1,x2,y1,y2] to => relative yolo [x, y, w, h]\n",
    "            x,y,w,h = cv2_rect_to_yolo(x1,x2,y1,y2, original_width, original_height)\n",
    "            # Writing results to yolo label file\n",
    "            list_yolo_labels.append([cl_label, x, y, w, h])\n",
    "\n",
    "        path_yolo_label = os.path.join(self.path_yolo_out, f\"{base_name}.txt\")\n",
    "        write_yolo(list_yolo_labels, path_yolo_label)\n",
    "                 "
   ]
  },
  {
   "cell_type": "code",
   "execution_count": null,
   "id": "d2c959fc-864c-4a77-84d0-1c009c756f5f",
   "metadata": {
    "scrolled": true
   },
   "outputs": [],
   "source": [
    "# import json\n",
    "# import os\n",
    "# from tqdm import tqdm\n",
    "\n",
    "# path_labeled = \"/Users/YaVolkonskiy/Documents/001_Projects/003_tomato/001_data/001_raw_data/010_data_greenhouse_20_12_23/selected_images/Gelya/export_LS_seg/project-20-at-2024-02-01-17-10-4e3676dd.json\"\n",
    "# path_yolo_out = \"/Users/YaVolkonskiy/Documents/001_Projects/003_tomato/001_data/001_raw_data/010_data_greenhouse_20_12_23/selected_images/Gelya/yolo_bbox\"\n",
    "# classes = {\"leaf\" :0, \"tomato\":1, \"stem\":2}\n",
    "\n",
    "# with open(path_labeled) as user_file:\n",
    "#     parsed_json = json.load(user_file)\n",
    "# parsed_json"
   ]
  },
  {
   "cell_type": "code",
   "execution_count": 6,
   "id": "d4f8c227-cf1b-4f75-b1c4-cb916a3ed1ab",
   "metadata": {
    "scrolled": true
   },
   "outputs": [
    {
     "name": "stderr",
     "output_type": "stream",
     "text": [
      "  1%|█▉                                                                                                                                                                                      | 1/94 [00:01<02:20,  1.51s/it]"
     ]
    },
    {
     "name": "stdout",
     "output_type": "stream",
     "text": [
      "file writed\n"
     ]
    },
    {
     "name": "stderr",
     "output_type": "stream",
     "text": [
      "  2%|███▉                                                                                                                                                                                    | 2/94 [00:03<02:30,  1.64s/it]"
     ]
    },
    {
     "name": "stdout",
     "output_type": "stream",
     "text": [
      "file writed\n"
     ]
    },
    {
     "name": "stderr",
     "output_type": "stream",
     "text": [
      "  3%|█████▊                                                                                                                                                                                  | 3/94 [00:04<02:02,  1.35s/it]"
     ]
    },
    {
     "name": "stdout",
     "output_type": "stream",
     "text": [
      "file writed\n"
     ]
    },
    {
     "name": "stderr",
     "output_type": "stream",
     "text": [
      "  4%|███████▊                                                                                                                                                                                | 4/94 [00:05<02:02,  1.36s/it]"
     ]
    },
    {
     "name": "stdout",
     "output_type": "stream",
     "text": [
      "file writed\n"
     ]
    },
    {
     "name": "stderr",
     "output_type": "stream",
     "text": [
      "  5%|█████████▊                                                                                                                                                                              | 5/94 [00:06<01:52,  1.27s/it]"
     ]
    },
    {
     "name": "stdout",
     "output_type": "stream",
     "text": [
      "file writed\n"
     ]
    },
    {
     "name": "stderr",
     "output_type": "stream",
     "text": [
      "  6%|███████████▋                                                                                                                                                                            | 6/94 [00:08<02:05,  1.43s/it]"
     ]
    },
    {
     "name": "stdout",
     "output_type": "stream",
     "text": [
      "file writed\n"
     ]
    },
    {
     "name": "stderr",
     "output_type": "stream",
     "text": [
      "  7%|█████████████▋                                                                                                                                                                          | 7/94 [00:09<01:57,  1.35s/it]"
     ]
    },
    {
     "name": "stdout",
     "output_type": "stream",
     "text": [
      "file writed\n"
     ]
    },
    {
     "name": "stderr",
     "output_type": "stream",
     "text": [
      "  9%|███████████████▋                                                                                                                                                                        | 8/94 [00:11<02:03,  1.44s/it]"
     ]
    },
    {
     "name": "stdout",
     "output_type": "stream",
     "text": [
      "file writed\n"
     ]
    },
    {
     "name": "stderr",
     "output_type": "stream",
     "text": [
      " 10%|█████████████████▌                                                                                                                                                                      | 9/94 [00:12<01:50,  1.30s/it]"
     ]
    },
    {
     "name": "stdout",
     "output_type": "stream",
     "text": [
      "file writed\n"
     ]
    },
    {
     "name": "stderr",
     "output_type": "stream",
     "text": [
      " 11%|███████████████████▍                                                                                                                                                                   | 10/94 [00:13<01:56,  1.38s/it]"
     ]
    },
    {
     "name": "stdout",
     "output_type": "stream",
     "text": [
      "file writed\n"
     ]
    },
    {
     "name": "stderr",
     "output_type": "stream",
     "text": [
      " 12%|█████████████████████▍                                                                                                                                                                 | 11/94 [00:14<01:46,  1.28s/it]"
     ]
    },
    {
     "name": "stdout",
     "output_type": "stream",
     "text": [
      "file writed\n"
     ]
    },
    {
     "name": "stderr",
     "output_type": "stream",
     "text": [
      " 13%|███████████████████████▎                                                                                                                                                               | 12/94 [00:16<01:51,  1.36s/it]"
     ]
    },
    {
     "name": "stdout",
     "output_type": "stream",
     "text": [
      "file writed\n"
     ]
    },
    {
     "name": "stderr",
     "output_type": "stream",
     "text": [
      " 14%|█████████████████████████▎                                                                                                                                                             | 13/94 [00:17<01:35,  1.18s/it]"
     ]
    },
    {
     "name": "stdout",
     "output_type": "stream",
     "text": [
      "file writed\n"
     ]
    },
    {
     "name": "stderr",
     "output_type": "stream",
     "text": [
      " 15%|███████████████████████████▎                                                                                                                                                           | 14/94 [00:19<02:05,  1.57s/it]"
     ]
    },
    {
     "name": "stdout",
     "output_type": "stream",
     "text": [
      "file writed\n"
     ]
    },
    {
     "name": "stderr",
     "output_type": "stream",
     "text": [
      " 16%|█████████████████████████████▏                                                                                                                                                         | 15/94 [00:20<01:46,  1.35s/it]"
     ]
    },
    {
     "name": "stdout",
     "output_type": "stream",
     "text": [
      "file writed\n"
     ]
    },
    {
     "name": "stderr",
     "output_type": "stream",
     "text": [
      " 17%|███████████████████████████████▏                                                                                                                                                       | 16/94 [00:22<01:59,  1.53s/it]"
     ]
    },
    {
     "name": "stdout",
     "output_type": "stream",
     "text": [
      "file writed\n"
     ]
    },
    {
     "name": "stderr",
     "output_type": "stream",
     "text": [
      " 18%|█████████████████████████████████                                                                                                                                                      | 17/94 [00:23<01:54,  1.49s/it]"
     ]
    },
    {
     "name": "stdout",
     "output_type": "stream",
     "text": [
      "file writed\n"
     ]
    },
    {
     "name": "stderr",
     "output_type": "stream",
     "text": [
      " 19%|███████████████████████████████████                                                                                                                                                    | 18/94 [00:25<01:58,  1.56s/it]"
     ]
    },
    {
     "name": "stdout",
     "output_type": "stream",
     "text": [
      "file writed\n"
     ]
    },
    {
     "name": "stderr",
     "output_type": "stream",
     "text": [
      " 20%|████████████████████████████████████▉                                                                                                                                                  | 19/94 [00:27<02:06,  1.69s/it]"
     ]
    },
    {
     "name": "stdout",
     "output_type": "stream",
     "text": [
      "file writed\n"
     ]
    },
    {
     "name": "stderr",
     "output_type": "stream",
     "text": [
      " 21%|██████████████████████████████████████▉                                                                                                                                                | 20/94 [00:29<02:04,  1.68s/it]"
     ]
    },
    {
     "name": "stdout",
     "output_type": "stream",
     "text": [
      "file writed\n"
     ]
    },
    {
     "name": "stderr",
     "output_type": "stream",
     "text": [
      " 22%|████████████████████████████████████████▉                                                                                                                                              | 21/94 [00:31<02:05,  1.72s/it]"
     ]
    },
    {
     "name": "stdout",
     "output_type": "stream",
     "text": [
      "file writed\n"
     ]
    },
    {
     "name": "stderr",
     "output_type": "stream",
     "text": [
      " 23%|██████████████████████████████████████████▊                                                                                                                                            | 22/94 [00:32<01:57,  1.63s/it]"
     ]
    },
    {
     "name": "stdout",
     "output_type": "stream",
     "text": [
      "file writed\n"
     ]
    },
    {
     "name": "stderr",
     "output_type": "stream",
     "text": [
      " 24%|████████████████████████████████████████████▊                                                                                                                                          | 23/94 [00:34<02:03,  1.74s/it]"
     ]
    },
    {
     "name": "stdout",
     "output_type": "stream",
     "text": [
      "file writed\n"
     ]
    },
    {
     "name": "stderr",
     "output_type": "stream",
     "text": [
      " 26%|██████████████████████████████████████████████▋                                                                                                                                        | 24/94 [00:36<02:09,  1.85s/it]"
     ]
    },
    {
     "name": "stdout",
     "output_type": "stream",
     "text": [
      "file writed\n"
     ]
    },
    {
     "name": "stderr",
     "output_type": "stream",
     "text": [
      " 27%|████████████████████████████████████████████████▋                                                                                                                                      | 25/94 [00:38<02:04,  1.81s/it]"
     ]
    },
    {
     "name": "stdout",
     "output_type": "stream",
     "text": [
      "file writed\n"
     ]
    },
    {
     "name": "stderr",
     "output_type": "stream",
     "text": [
      " 28%|██████████████████████████████████████████████████▌                                                                                                                                    | 26/94 [00:40<02:20,  2.07s/it]"
     ]
    },
    {
     "name": "stdout",
     "output_type": "stream",
     "text": [
      "file writed\n"
     ]
    },
    {
     "name": "stderr",
     "output_type": "stream",
     "text": [
      " 29%|████████████████████████████████████████████████████▌                                                                                                                                  | 27/94 [00:42<02:11,  1.96s/it]"
     ]
    },
    {
     "name": "stdout",
     "output_type": "stream",
     "text": [
      "file writed\n"
     ]
    },
    {
     "name": "stderr",
     "output_type": "stream",
     "text": [
      " 30%|██████████████████████████████████████████████████████▌                                                                                                                                | 28/94 [00:43<01:56,  1.76s/it]"
     ]
    },
    {
     "name": "stdout",
     "output_type": "stream",
     "text": [
      "file writed\n"
     ]
    },
    {
     "name": "stderr",
     "output_type": "stream",
     "text": [
      " 31%|████████████████████████████████████████████████████████▍                                                                                                                              | 29/94 [00:45<01:58,  1.82s/it]"
     ]
    },
    {
     "name": "stdout",
     "output_type": "stream",
     "text": [
      "file writed\n"
     ]
    },
    {
     "name": "stderr",
     "output_type": "stream",
     "text": [
      " 32%|██████████████████████████████████████████████████████████▍                                                                                                                            | 30/94 [00:47<01:56,  1.81s/it]"
     ]
    },
    {
     "name": "stdout",
     "output_type": "stream",
     "text": [
      "file writed\n"
     ]
    },
    {
     "name": "stderr",
     "output_type": "stream",
     "text": [
      " 33%|████████████████████████████████████████████████████████████▎                                                                                                                          | 31/94 [00:49<01:59,  1.90s/it]"
     ]
    },
    {
     "name": "stdout",
     "output_type": "stream",
     "text": [
      "file writed\n"
     ]
    },
    {
     "name": "stderr",
     "output_type": "stream",
     "text": [
      " 34%|██████████████████████████████████████████████████████████████▎                                                                                                                        | 32/94 [00:51<01:57,  1.89s/it]"
     ]
    },
    {
     "name": "stdout",
     "output_type": "stream",
     "text": [
      "file writed\n"
     ]
    },
    {
     "name": "stderr",
     "output_type": "stream",
     "text": [
      " 35%|████████████████████████████████████████████████████████████████▏                                                                                                                      | 33/94 [00:53<01:51,  1.83s/it]"
     ]
    },
    {
     "name": "stdout",
     "output_type": "stream",
     "text": [
      "file writed\n"
     ]
    },
    {
     "name": "stderr",
     "output_type": "stream",
     "text": [
      " 36%|██████████████████████████████████████████████████████████████████▏                                                                                                                    | 34/94 [00:54<01:42,  1.71s/it]"
     ]
    },
    {
     "name": "stdout",
     "output_type": "stream",
     "text": [
      "file writed\n"
     ]
    },
    {
     "name": "stderr",
     "output_type": "stream",
     "text": [
      " 37%|████████████████████████████████████████████████████████████████████▏                                                                                                                  | 35/94 [00:56<01:41,  1.72s/it]"
     ]
    },
    {
     "name": "stdout",
     "output_type": "stream",
     "text": [
      "file writed\n"
     ]
    },
    {
     "name": "stderr",
     "output_type": "stream",
     "text": [
      " 38%|██████████████████████████████████████████████████████████████████████                                                                                                                 | 36/94 [00:58<01:40,  1.74s/it]"
     ]
    },
    {
     "name": "stdout",
     "output_type": "stream",
     "text": [
      "file writed\n"
     ]
    },
    {
     "name": "stderr",
     "output_type": "stream",
     "text": [
      " 39%|████████████████████████████████████████████████████████████████████████                                                                                                               | 37/94 [01:00<01:43,  1.81s/it]"
     ]
    },
    {
     "name": "stdout",
     "output_type": "stream",
     "text": [
      "file writed\n"
     ]
    },
    {
     "name": "stderr",
     "output_type": "stream",
     "text": [
      " 40%|█████████████████████████████████████████████████████████████████████████▉                                                                                                             | 38/94 [01:02<01:40,  1.79s/it]"
     ]
    },
    {
     "name": "stdout",
     "output_type": "stream",
     "text": [
      "file writed\n"
     ]
    },
    {
     "name": "stderr",
     "output_type": "stream",
     "text": [
      " 41%|███████████████████████████████████████████████████████████████████████████▉                                                                                                           | 39/94 [01:03<01:36,  1.75s/it]"
     ]
    },
    {
     "name": "stdout",
     "output_type": "stream",
     "text": [
      "file writed\n"
     ]
    },
    {
     "name": "stderr",
     "output_type": "stream",
     "text": [
      " 43%|█████████████████████████████████████████████████████████████████████████████▊                                                                                                         | 40/94 [01:05<01:30,  1.68s/it]"
     ]
    },
    {
     "name": "stdout",
     "output_type": "stream",
     "text": [
      "file writed\n"
     ]
    },
    {
     "name": "stderr",
     "output_type": "stream",
     "text": [
      " 44%|███████████████████████████████████████████████████████████████████████████████▊                                                                                                       | 41/94 [01:06<01:29,  1.69s/it]"
     ]
    },
    {
     "name": "stdout",
     "output_type": "stream",
     "text": [
      "file writed\n"
     ]
    },
    {
     "name": "stderr",
     "output_type": "stream",
     "text": [
      " 45%|█████████████████████████████████████████████████████████████████████████████████▊                                                                                                     | 42/94 [01:08<01:26,  1.67s/it]"
     ]
    },
    {
     "name": "stdout",
     "output_type": "stream",
     "text": [
      "file writed\n"
     ]
    },
    {
     "name": "stderr",
     "output_type": "stream",
     "text": [
      " 46%|███████████████████████████████████████████████████████████████████████████████████▋                                                                                                   | 43/94 [01:10<01:28,  1.74s/it]"
     ]
    },
    {
     "name": "stdout",
     "output_type": "stream",
     "text": [
      "file writed\n"
     ]
    },
    {
     "name": "stderr",
     "output_type": "stream",
     "text": [
      " 47%|█████████████████████████████████████████████████████████████████████████████████████▋                                                                                                 | 44/94 [01:11<01:21,  1.63s/it]"
     ]
    },
    {
     "name": "stdout",
     "output_type": "stream",
     "text": [
      "file writed\n"
     ]
    },
    {
     "name": "stderr",
     "output_type": "stream",
     "text": [
      " 48%|███████████████████████████████████████████████████████████████████████████████████████▌                                                                                               | 45/94 [01:13<01:25,  1.75s/it]"
     ]
    },
    {
     "name": "stdout",
     "output_type": "stream",
     "text": [
      "file writed\n"
     ]
    },
    {
     "name": "stderr",
     "output_type": "stream",
     "text": [
      " 49%|█████████████████████████████████████████████████████████████████████████████████████████▌                                                                                             | 46/94 [01:15<01:26,  1.80s/it]"
     ]
    },
    {
     "name": "stdout",
     "output_type": "stream",
     "text": [
      "file writed\n"
     ]
    },
    {
     "name": "stderr",
     "output_type": "stream",
     "text": [
      " 50%|███████████████████████████████████████████████████████████████████████████████████████████▌                                                                                           | 47/94 [01:17<01:23,  1.77s/it]"
     ]
    },
    {
     "name": "stdout",
     "output_type": "stream",
     "text": [
      "file writed\n"
     ]
    },
    {
     "name": "stderr",
     "output_type": "stream",
     "text": [
      " 51%|█████████████████████████████████████████████████████████████████████████████████████████████▍                                                                                         | 48/94 [01:19<01:20,  1.76s/it]"
     ]
    },
    {
     "name": "stdout",
     "output_type": "stream",
     "text": [
      "file writed\n"
     ]
    },
    {
     "name": "stderr",
     "output_type": "stream",
     "text": [
      " 52%|███████████████████████████████████████████████████████████████████████████████████████████████▍                                                                                       | 49/94 [01:20<01:18,  1.75s/it]"
     ]
    },
    {
     "name": "stdout",
     "output_type": "stream",
     "text": [
      "file writed\n"
     ]
    },
    {
     "name": "stderr",
     "output_type": "stream",
     "text": [
      " 53%|█████████████████████████████████████████████████████████████████████████████████████████████████▎                                                                                     | 50/94 [01:22<01:18,  1.79s/it]"
     ]
    },
    {
     "name": "stdout",
     "output_type": "stream",
     "text": [
      "file writed\n"
     ]
    },
    {
     "name": "stderr",
     "output_type": "stream",
     "text": [
      " 54%|███████████████████████████████████████████████████████████████████████████████████████████████████▎                                                                                   | 51/94 [01:24<01:13,  1.72s/it]"
     ]
    },
    {
     "name": "stdout",
     "output_type": "stream",
     "text": [
      "file writed\n"
     ]
    },
    {
     "name": "stderr",
     "output_type": "stream",
     "text": [
      " 55%|█████████████████████████████████████████████████████████████████████████████████████████████████████▏                                                                                 | 52/94 [01:26<01:15,  1.81s/it]"
     ]
    },
    {
     "name": "stdout",
     "output_type": "stream",
     "text": [
      "file writed\n"
     ]
    },
    {
     "name": "stderr",
     "output_type": "stream",
     "text": [
      " 56%|███████████████████████████████████████████████████████████████████████████████████████████████████████▏                                                                               | 53/94 [01:28<01:15,  1.84s/it]"
     ]
    },
    {
     "name": "stdout",
     "output_type": "stream",
     "text": [
      "file writed\n"
     ]
    },
    {
     "name": "stderr",
     "output_type": "stream",
     "text": [
      " 57%|█████████████████████████████████████████████████████████████████████████████████████████████████████████▏                                                                             | 54/94 [01:30<01:16,  1.92s/it]"
     ]
    },
    {
     "name": "stdout",
     "output_type": "stream",
     "text": [
      "file writed\n"
     ]
    },
    {
     "name": "stderr",
     "output_type": "stream",
     "text": [
      " 59%|███████████████████████████████████████████████████████████████████████████████████████████████████████████                                                                            | 55/94 [01:32<01:15,  1.94s/it]"
     ]
    },
    {
     "name": "stdout",
     "output_type": "stream",
     "text": [
      "file writed\n"
     ]
    },
    {
     "name": "stderr",
     "output_type": "stream",
     "text": [
      " 60%|█████████████████████████████████████████████████████████████████████████████████████████████████████████████                                                                          | 56/94 [01:34<01:12,  1.90s/it]"
     ]
    },
    {
     "name": "stdout",
     "output_type": "stream",
     "text": [
      "file writed\n"
     ]
    },
    {
     "name": "stderr",
     "output_type": "stream",
     "text": [
      " 61%|██████████████████████████████████████████████████████████████████████████████████████████████████████████████▉                                                                        | 57/94 [01:35<01:08,  1.86s/it]"
     ]
    },
    {
     "name": "stdout",
     "output_type": "stream",
     "text": [
      "file writed\n"
     ]
    },
    {
     "name": "stderr",
     "output_type": "stream",
     "text": [
      " 62%|████████████████████████████████████████████████████████████████████████████████████████████████████████████████▉                                                                      | 58/94 [01:37<01:06,  1.84s/it]"
     ]
    },
    {
     "name": "stdout",
     "output_type": "stream",
     "text": [
      "file writed\n"
     ]
    },
    {
     "name": "stderr",
     "output_type": "stream",
     "text": [
      " 63%|██████████████████████████████████████████████████████████████████████████████████████████████████████████████████▊                                                                    | 59/94 [01:39<01:06,  1.89s/it]"
     ]
    },
    {
     "name": "stdout",
     "output_type": "stream",
     "text": [
      "file writed\n"
     ]
    },
    {
     "name": "stderr",
     "output_type": "stream",
     "text": [
      " 64%|████████████████████████████████████████████████████████████████████████████████████████████████████████████████████▊                                                                  | 60/94 [01:41<01:01,  1.82s/it]"
     ]
    },
    {
     "name": "stdout",
     "output_type": "stream",
     "text": [
      "file writed\n"
     ]
    },
    {
     "name": "stderr",
     "output_type": "stream",
     "text": [
      " 65%|██████████████████████████████████████████████████████████████████████████████████████████████████████████████████████▊                                                                | 61/94 [01:43<01:00,  1.85s/it]"
     ]
    },
    {
     "name": "stdout",
     "output_type": "stream",
     "text": [
      "file writed\n"
     ]
    },
    {
     "name": "stderr",
     "output_type": "stream",
     "text": [
      " 66%|████████████████████████████████████████████████████████████████████████████████████████████████████████████████████████▋                                                              | 62/94 [01:45<00:59,  1.87s/it]"
     ]
    },
    {
     "name": "stdout",
     "output_type": "stream",
     "text": [
      "file writed\n"
     ]
    },
    {
     "name": "stderr",
     "output_type": "stream",
     "text": [
      " 67%|██████████████████████████████████████████████████████████████████████████████████████████████████████████████████████████▋                                                            | 63/94 [01:46<00:55,  1.78s/it]"
     ]
    },
    {
     "name": "stdout",
     "output_type": "stream",
     "text": [
      "file writed\n"
     ]
    },
    {
     "name": "stderr",
     "output_type": "stream",
     "text": [
      " 68%|████████████████████████████████████████████████████████████████████████████████████████████████████████████████████████████▌                                                          | 64/94 [01:48<00:51,  1.73s/it]"
     ]
    },
    {
     "name": "stdout",
     "output_type": "stream",
     "text": [
      "file writed\n"
     ]
    },
    {
     "name": "stderr",
     "output_type": "stream",
     "text": [
      " 69%|██████████████████████████████████████████████████████████████████████████████████████████████████████████████████████████████▌                                                        | 65/94 [01:50<00:49,  1.71s/it]"
     ]
    },
    {
     "name": "stdout",
     "output_type": "stream",
     "text": [
      "file writed\n"
     ]
    },
    {
     "name": "stderr",
     "output_type": "stream",
     "text": [
      " 70%|████████████████████████████████████████████████████████████████████████████████████████████████████████████████████████████████▍                                                      | 66/94 [01:51<00:49,  1.75s/it]"
     ]
    },
    {
     "name": "stdout",
     "output_type": "stream",
     "text": [
      "file writed\n"
     ]
    },
    {
     "name": "stderr",
     "output_type": "stream",
     "text": [
      " 71%|██████████████████████████████████████████████████████████████████████████████████████████████████████████████████████████████████▍                                                    | 67/94 [01:53<00:47,  1.77s/it]"
     ]
    },
    {
     "name": "stdout",
     "output_type": "stream",
     "text": [
      "file writed\n"
     ]
    },
    {
     "name": "stderr",
     "output_type": "stream",
     "text": [
      " 72%|████████████████████████████████████████████████████████████████████████████████████████████████████████████████████████████████████▍                                                  | 68/94 [01:55<00:47,  1.84s/it]"
     ]
    },
    {
     "name": "stdout",
     "output_type": "stream",
     "text": [
      "file writed\n"
     ]
    },
    {
     "name": "stderr",
     "output_type": "stream",
     "text": [
      " 73%|██████████████████████████████████████████████████████████████████████████████████████████████████████████████████████████████████████▎                                                | 69/94 [01:57<00:47,  1.89s/it]"
     ]
    },
    {
     "name": "stdout",
     "output_type": "stream",
     "text": [
      "file writed\n"
     ]
    },
    {
     "name": "stderr",
     "output_type": "stream",
     "text": [
      " 74%|████████████████████████████████████████████████████████████████████████████████████████████████████████████████████████████████████████▎                                              | 70/94 [01:59<00:46,  1.93s/it]"
     ]
    },
    {
     "name": "stdout",
     "output_type": "stream",
     "text": [
      "file writed\n"
     ]
    },
    {
     "name": "stderr",
     "output_type": "stream",
     "text": [
      " 76%|██████████████████████████████████████████████████████████████████████████████████████████████████████████████████████████████████████████▏                                            | 71/94 [02:01<00:45,  1.97s/it]"
     ]
    },
    {
     "name": "stdout",
     "output_type": "stream",
     "text": [
      "file writed\n"
     ]
    },
    {
     "name": "stderr",
     "output_type": "stream",
     "text": [
      " 77%|████████████████████████████████████████████████████████████████████████████████████████████████████████████████████████████████████████████▏                                          | 72/94 [02:04<00:45,  2.06s/it]"
     ]
    },
    {
     "name": "stdout",
     "output_type": "stream",
     "text": [
      "file writed\n"
     ]
    },
    {
     "name": "stderr",
     "output_type": "stream",
     "text": [
      " 78%|██████████████████████████████████████████████████████████████████████████████████████████████████████████████████████████████████████████████                                         | 73/94 [02:06<00:43,  2.08s/it]"
     ]
    },
    {
     "name": "stdout",
     "output_type": "stream",
     "text": [
      "file writed\n"
     ]
    },
    {
     "name": "stderr",
     "output_type": "stream",
     "text": [
      " 79%|████████████████████████████████████████████████████████████████████████████████████████████████████████████████████████████████████████████████                                       | 74/94 [02:08<00:39,  1.99s/it]"
     ]
    },
    {
     "name": "stdout",
     "output_type": "stream",
     "text": [
      "file writed\n"
     ]
    },
    {
     "name": "stderr",
     "output_type": "stream",
     "text": [
      " 80%|██████████████████████████████████████████████████████████████████████████████████████████████████████████████████████████████████████████████████                                     | 75/94 [02:09<00:34,  1.84s/it]"
     ]
    },
    {
     "name": "stdout",
     "output_type": "stream",
     "text": [
      "file writed\n"
     ]
    },
    {
     "name": "stderr",
     "output_type": "stream",
     "text": [
      " 81%|███████████████████████████████████████████████████████████████████████████████████████████████████████████████████████████████████████████████████▉                                   | 76/94 [02:11<00:31,  1.75s/it]"
     ]
    },
    {
     "name": "stdout",
     "output_type": "stream",
     "text": [
      "file writed\n"
     ]
    },
    {
     "name": "stderr",
     "output_type": "stream",
     "text": [
      " 82%|█████████████████████████████████████████████████████████████████████████████████████████████████████████████████████████████████████████████████████▉                                 | 77/94 [02:12<00:28,  1.70s/it]"
     ]
    },
    {
     "name": "stdout",
     "output_type": "stream",
     "text": [
      "file writed\n"
     ]
    },
    {
     "name": "stderr",
     "output_type": "stream",
     "text": [
      " 83%|███████████████████████████████████████████████████████████████████████████████████████████████████████████████████████████████████████████████████████▊                               | 78/94 [02:14<00:27,  1.71s/it]"
     ]
    },
    {
     "name": "stdout",
     "output_type": "stream",
     "text": [
      "file writed\n"
     ]
    },
    {
     "name": "stderr",
     "output_type": "stream",
     "text": [
      " 84%|█████████████████████████████████████████████████████████████████████████████████████████████████████████████████████████████████████████████████████████▊                             | 79/94 [02:16<00:25,  1.73s/it]"
     ]
    },
    {
     "name": "stdout",
     "output_type": "stream",
     "text": [
      "file writed\n"
     ]
    },
    {
     "name": "stderr",
     "output_type": "stream",
     "text": [
      " 85%|███████████████████████████████████████████████████████████████████████████████████████████████████████████████████████████████████████████████████████████▋                           | 80/94 [02:17<00:24,  1.76s/it]"
     ]
    },
    {
     "name": "stdout",
     "output_type": "stream",
     "text": [
      "file writed\n"
     ]
    },
    {
     "name": "stderr",
     "output_type": "stream",
     "text": [
      " 86%|█████████████████████████████████████████████████████████████████████████████████████████████████████████████████████████████████████████████████████████████▋                         | 81/94 [02:19<00:23,  1.80s/it]"
     ]
    },
    {
     "name": "stdout",
     "output_type": "stream",
     "text": [
      "file writed\n"
     ]
    },
    {
     "name": "stderr",
     "output_type": "stream",
     "text": [
      " 87%|███████████████████████████████████████████████████████████████████████████████████████████████████████████████████████████████████████████████████████████████▋                       | 82/94 [02:21<00:21,  1.76s/it]"
     ]
    },
    {
     "name": "stdout",
     "output_type": "stream",
     "text": [
      "file writed\n"
     ]
    },
    {
     "name": "stderr",
     "output_type": "stream",
     "text": [
      " 88%|█████████████████████████████████████████████████████████████████████████████████████████████████████████████████████████████████████████████████████████████████▌                     | 83/94 [02:23<00:20,  1.85s/it]"
     ]
    },
    {
     "name": "stdout",
     "output_type": "stream",
     "text": [
      "file writed\n"
     ]
    },
    {
     "name": "stderr",
     "output_type": "stream",
     "text": [
      " 89%|███████████████████████████████████████████████████████████████████████████████████████████████████████████████████████████████████████████████████████████████████▌                   | 84/94 [02:24<00:16,  1.66s/it]"
     ]
    },
    {
     "name": "stdout",
     "output_type": "stream",
     "text": [
      "file writed\n"
     ]
    },
    {
     "name": "stderr",
     "output_type": "stream",
     "text": [
      " 90%|█████████████████████████████████████████████████████████████████████████████████████████████████████████████████████████████████████████████████████████████████████▍                 | 85/94 [02:26<00:14,  1.65s/it]"
     ]
    },
    {
     "name": "stdout",
     "output_type": "stream",
     "text": [
      "file writed\n"
     ]
    },
    {
     "name": "stderr",
     "output_type": "stream",
     "text": [
      " 91%|███████████████████████████████████████████████████████████████████████████████████████████████████████████████████████████████████████████████████████████████████████▍               | 86/94 [02:28<00:13,  1.70s/it]"
     ]
    },
    {
     "name": "stdout",
     "output_type": "stream",
     "text": [
      "file writed\n"
     ]
    },
    {
     "name": "stderr",
     "output_type": "stream",
     "text": [
      " 93%|█████████████████████████████████████████████████████████████████████████████████████████████████████████████████████████████████████████████████████████████████████████▎             | 87/94 [02:30<00:12,  1.72s/it]"
     ]
    },
    {
     "name": "stdout",
     "output_type": "stream",
     "text": [
      "file writed\n"
     ]
    },
    {
     "name": "stderr",
     "output_type": "stream",
     "text": [
      " 94%|███████████████████████████████████████████████████████████████████████████████████████████████████████████████████████████████████████████████████████████████████████████▎           | 88/94 [02:31<00:10,  1.76s/it]"
     ]
    },
    {
     "name": "stdout",
     "output_type": "stream",
     "text": [
      "file writed\n"
     ]
    },
    {
     "name": "stderr",
     "output_type": "stream",
     "text": [
      " 95%|█████████████████████████████████████████████████████████████████████████████████████████████████████████████████████████████████████████████████████████████████████████████▎         | 89/94 [02:33<00:08,  1.73s/it]"
     ]
    },
    {
     "name": "stdout",
     "output_type": "stream",
     "text": [
      "file writed\n"
     ]
    },
    {
     "name": "stderr",
     "output_type": "stream",
     "text": [
      " 96%|███████████████████████████████████████████████████████████████████████████████████████████████████████████████████████████████████████████████████████████████████████████████▏       | 90/94 [02:35<00:06,  1.74s/it]"
     ]
    },
    {
     "name": "stdout",
     "output_type": "stream",
     "text": [
      "file writed\n"
     ]
    },
    {
     "name": "stderr",
     "output_type": "stream",
     "text": [
      " 97%|█████████████████████████████████████████████████████████████████████████████████████████████████████████████████████████████████████████████████████████████████████████████████▏     | 91/94 [02:37<00:05,  1.74s/it]"
     ]
    },
    {
     "name": "stdout",
     "output_type": "stream",
     "text": [
      "file writed\n"
     ]
    },
    {
     "name": "stderr",
     "output_type": "stream",
     "text": [
      " 98%|███████████████████████████████████████████████████████████████████████████████████████████████████████████████████████████████████████████████████████████████████████████████████    | 92/94 [02:38<00:03,  1.67s/it]"
     ]
    },
    {
     "name": "stdout",
     "output_type": "stream",
     "text": [
      "file writed\n"
     ]
    },
    {
     "name": "stderr",
     "output_type": "stream",
     "text": [
      " 99%|█████████████████████████████████████████████████████████████████████████████████████████████████████████████████████████████████████████████████████████████████████████████████████  | 93/94 [02:40<00:01,  1.73s/it]"
     ]
    },
    {
     "name": "stdout",
     "output_type": "stream",
     "text": [
      "file writed\n"
     ]
    },
    {
     "name": "stderr",
     "output_type": "stream",
     "text": [
      "100%|███████████████████████████████████████████████████████████████████████████████████████████████████████████████████████████████████████████████████████████████████████████████████████| 94/94 [02:42<00:00,  1.73s/it]"
     ]
    },
    {
     "name": "stdout",
     "output_type": "stream",
     "text": [
      "file writed\n"
     ]
    },
    {
     "name": "stderr",
     "output_type": "stream",
     "text": [
      "\n"
     ]
    }
   ],
   "source": [
    "import json\n",
    "import os\n",
    "from tqdm import tqdm\n",
    "\n",
    "path_labeled = \"/Users/YaVolkonskiy/Documents/001_Projects/003_tomato/001_data/001_raw_data/002_video_data_customer/002_labeled/labeled_Olga_Gelya_21_11_23/project-13-at-2023-11-21-11-39-a223ddf0.json\"\n",
    "path_yolo_out = \"/Users/YaVolkonskiy/Documents/001_Projects/003_tomato/001_data/001_raw_data/002_video_data_customer/002_labeled/labeled_Olga_Gelya_21_11_23/yolo_bbox/labels\"\n",
    "classes = {\"leaf\" :0, \"tomato\":1, \"stem\":2}\n",
    "\n",
    "with open(path_labeled) as user_file:\n",
    "    parsed_json = json.load(user_file)\n",
    "\n",
    "for item_label in tqdm(parsed_json):\n",
    "    c=LSseg_2_yolo(path_yolo_out, classes)\n",
    "    image_np=c.run(item_label)\n"
   ]
  },
  {
   "cell_type": "code",
   "execution_count": null,
   "id": "be48ac6c-29a9-411d-b979-9b8b2e281e04",
   "metadata": {},
   "outputs": [],
   "source": []
  },
  {
   "cell_type": "markdown",
   "id": "2bec3c0e-726b-4d92-975f-6437a76ab4c4",
   "metadata": {},
   "source": [
    "### Train test scripts"
   ]
  },
  {
   "cell_type": "code",
   "execution_count": null,
   "id": "bc7500b2-cbab-4d0d-9830-7dd9344c5ee2",
   "metadata": {},
   "outputs": [],
   "source": [
    "image_np.max()"
   ]
  },
  {
   "cell_type": "code",
   "execution_count": null,
   "id": "68c1daeb-d8e9-4a6b-9798-6e4cf8ff24a5",
   "metadata": {},
   "outputs": [],
   "source": []
  },
  {
   "cell_type": "code",
   "execution_count": null,
   "id": "0c23c07a-f7cc-44c3-8d74-6b2fab3c43f1",
   "metadata": {},
   "outputs": [],
   "source": []
  },
  {
   "cell_type": "code",
   "execution_count": null,
   "id": "f2f8dd16-965c-4e1d-ab0e-8626056425fc",
   "metadata": {
    "scrolled": true
   },
   "outputs": [],
   "source": [
    "arr = np.zeros([12,6])\n",
    "arr[4:7,3:5]=1\n",
    "arr"
   ]
  },
  {
   "cell_type": "code",
   "execution_count": null,
   "id": "11f44e0a-bd04-49de-b38c-0e792d86af36",
   "metadata": {
    "scrolled": true
   },
   "outputs": [],
   "source": [
    "# arr[11][-1]=100\n",
    "# arr[11][-2]=99\n",
    "# arr[10][-2]=98\n",
    "# arr[0][0]=50\n",
    "\n",
    "\n",
    "arr"
   ]
  },
  {
   "cell_type": "code",
   "execution_count": null,
   "id": "a08e40ff-7380-4748-9e42-7dc007e66f78",
   "metadata": {},
   "outputs": [],
   "source": [
    "arr"
   ]
  },
  {
   "cell_type": "code",
   "execution_count": null,
   "id": "d8f9ea46-9eeb-4f39-99ea-20c3ac12cd13",
   "metadata": {},
   "outputs": [],
   "source": [
    "\n",
    "\n",
    "# mask2yolo(arr)    "
   ]
  },
  {
   "cell_type": "code",
   "execution_count": null,
   "id": "d2c5ae45-1e63-4788-a8ac-73dacff930ee",
   "metadata": {},
   "outputs": [],
   "source": [
    "x1,x2,y1,y2 =mask2yolo(arr) \n",
    "print(f\"x1,x2,y1,y2 {x1,x2,y1,y2}\")\n",
    "arr[y1:y2, x1:x2]"
   ]
  },
  {
   "cell_type": "code",
   "execution_count": null,
   "id": "9e8b866e-3859-4955-9fc3-da7875105d3d",
   "metadata": {},
   "outputs": [],
   "source": [
    "r=1\n",
    "arr[:,r:r+1][0]"
   ]
  },
  {
   "cell_type": "code",
   "execution_count": null,
   "id": "7e851c33-c4c0-4b9d-95a1-32e4c669bc7a",
   "metadata": {},
   "outputs": [],
   "source": [
    "arr[:,4:11]"
   ]
  },
  {
   "cell_type": "code",
   "execution_count": null,
   "id": "91957496-fc5e-412c-b6cf-014eb1eb04e6",
   "metadata": {},
   "outputs": [],
   "source": [
    "image_np[8:9,:]"
   ]
  },
  {
   "cell_type": "code",
   "execution_count": null,
   "id": "91964d7e-8dd6-4da7-927c-2959bc4b243c",
   "metadata": {},
   "outputs": [],
   "source": [
    "arr"
   ]
  },
  {
   "cell_type": "code",
   "execution_count": null,
   "id": "0d3a6fde-1416-4f41-9b54-731aa6bd926b",
   "metadata": {},
   "outputs": [],
   "source": [
    "a=[0,1,2,3,4]\n",
    "\n",
    "\" \".join(map(str, a))"
   ]
  },
  {
   "cell_type": "code",
   "execution_count": null,
   "id": "fcf01700-f405-4920-913d-be762f7361bc",
   "metadata": {},
   "outputs": [],
   "source": [
    "a = \"image_name 148.png\"\n",
    "\n",
    "a[:a.rfind(\".\")]"
   ]
  },
  {
   "cell_type": "code",
   "execution_count": null,
   "id": "aafb8422-65b4-406a-aac5-7af5eb087683",
   "metadata": {},
   "outputs": [],
   "source": []
  }
 ],
 "metadata": {
  "kernelspec": {
   "display_name": "Python 3 (ipykernel)",
   "language": "python",
   "name": "python3"
  },
  "language_info": {
   "codemirror_mode": {
    "name": "ipython",
    "version": 3
   },
   "file_extension": ".py",
   "mimetype": "text/x-python",
   "name": "python",
   "nbconvert_exporter": "python",
   "pygments_lexer": "ipython3",
   "version": "3.11.6"
  }
 },
 "nbformat": 4,
 "nbformat_minor": 5
}
