{
 "cells": [
  {
   "cell_type": "code",
   "execution_count": 1,
   "id": "a3d96aec-4abf-4de8-84d8-fedbc21c29f9",
   "metadata": {},
   "outputs": [],
   "source": [
    "import numpy as np\n",
    "import os\n",
    "import json\n",
    "import cv2 as cv\n",
    "import shutil\n",
    "import random"
   ]
  },
  {
   "cell_type": "markdown",
   "id": "bd0296db-1d88-4dc0-a486-e82c83fde999",
   "metadata": {},
   "source": [
    "### Check initial "
   ]
  },
  {
   "cell_type": "code",
   "execution_count": 2,
   "id": "7849d845-c555-4a33-b295-771e6cf4648e",
   "metadata": {
    "scrolled": true
   },
   "outputs": [
    {
     "data": {
      "text/plain": [
       "array([[[0, 0, 0],\n",
       "        [0, 0, 0],\n",
       "        [0, 0, 0],\n",
       "        ...,\n",
       "        [0, 0, 0],\n",
       "        [0, 0, 0],\n",
       "        [0, 0, 0]],\n",
       "\n",
       "       [[0, 0, 0],\n",
       "        [0, 0, 0],\n",
       "        [0, 0, 0],\n",
       "        ...,\n",
       "        [0, 0, 0],\n",
       "        [0, 0, 0],\n",
       "        [0, 0, 0]],\n",
       "\n",
       "       [[0, 0, 0],\n",
       "        [0, 0, 0],\n",
       "        [0, 0, 0],\n",
       "        ...,\n",
       "        [0, 0, 0],\n",
       "        [0, 0, 0],\n",
       "        [0, 0, 0]],\n",
       "\n",
       "       ...,\n",
       "\n",
       "       [[0, 0, 0],\n",
       "        [0, 0, 0],\n",
       "        [0, 0, 0],\n",
       "        ...,\n",
       "        [0, 0, 1],\n",
       "        [0, 0, 1],\n",
       "        [0, 0, 1]],\n",
       "\n",
       "       [[0, 0, 0],\n",
       "        [0, 0, 0],\n",
       "        [0, 0, 0],\n",
       "        ...,\n",
       "        [0, 0, 1],\n",
       "        [0, 0, 1],\n",
       "        [0, 0, 1]],\n",
       "\n",
       "       [[0, 0, 0],\n",
       "        [0, 0, 0],\n",
       "        [0, 0, 0],\n",
       "        ...,\n",
       "        [0, 0, 1],\n",
       "        [0, 0, 1],\n",
       "        [0, 0, 1]]], dtype=uint8)"
      ]
     },
     "execution_count": 2,
     "metadata": {},
     "output_type": "execute_result"
    }
   ],
   "source": [
    "# paddle anot\n",
    "# path_img = \"/Users/YaVolkonskiy/Documents/Projects/tomato/data/002_data_experiments/example_paddle_seg/optic_disc_seg/Annotations/H0002.png\"\n",
    "\n",
    "\n",
    "# anot our\n",
    "# path_img = \"/Users/YaVolkonskiy/Documents/Projects/tomato/data/002_data_experiments/004_train_Mask2Former_panoptic_23_10_23/paddle_paddle_resized/Annotations/GX010026_73.png\"\n",
    "path_img = \"/Users/YaVolkonskiy/Documents/Projects/tomato/data/002_data_experiments/004_train_Mask2Former_panoptic_23_10_23/paddle_paddle_512_0123/Annotations/GX010026_73.png\"\n",
    "\n",
    "\n",
    "img_np = cv.imread(path_img)\n",
    "# img_np[220:270,220:270,:]\n",
    "img_np[:,:,:3]"
   ]
  },
  {
   "cell_type": "code",
   "execution_count": 3,
   "id": "9cf1690d-12c3-44c2-8493-470e0e285725",
   "metadata": {},
   "outputs": [
    {
     "data": {
      "text/plain": [
       "(512, 512, 3)"
      ]
     },
     "execution_count": 3,
     "metadata": {},
     "output_type": "execute_result"
    }
   ],
   "source": [
    "img_np.shape"
   ]
  },
  {
   "cell_type": "code",
   "execution_count": 4,
   "id": "0471e490-b89e-4485-a46b-f5eab2c1fe74",
   "metadata": {},
   "outputs": [
    {
     "data": {
      "text/plain": [
       "array([[[0, 0, 0],\n",
       "        [0, 0, 0],\n",
       "        [0, 0, 0],\n",
       "        ...,\n",
       "        [0, 0, 0],\n",
       "        [0, 0, 0],\n",
       "        [0, 0, 0]],\n",
       "\n",
       "       [[0, 0, 0],\n",
       "        [0, 0, 0],\n",
       "        [0, 0, 0],\n",
       "        ...,\n",
       "        [0, 0, 0],\n",
       "        [0, 0, 0],\n",
       "        [0, 0, 0]],\n",
       "\n",
       "       [[0, 0, 0],\n",
       "        [0, 0, 0],\n",
       "        [0, 0, 0],\n",
       "        ...,\n",
       "        [0, 0, 0],\n",
       "        [0, 0, 0],\n",
       "        [0, 0, 0]],\n",
       "\n",
       "       ...,\n",
       "\n",
       "       [[0, 0, 0],\n",
       "        [0, 0, 0],\n",
       "        [0, 0, 0],\n",
       "        ...,\n",
       "        [0, 0, 1],\n",
       "        [0, 0, 1],\n",
       "        [0, 0, 1]],\n",
       "\n",
       "       [[0, 0, 0],\n",
       "        [0, 0, 0],\n",
       "        [0, 0, 0],\n",
       "        ...,\n",
       "        [0, 0, 1],\n",
       "        [0, 0, 1],\n",
       "        [0, 0, 1]],\n",
       "\n",
       "       [[0, 0, 0],\n",
       "        [0, 0, 0],\n",
       "        [0, 0, 0],\n",
       "        ...,\n",
       "        [0, 0, 1],\n",
       "        [0, 0, 1],\n",
       "        [0, 0, 1]]], dtype=uint8)"
      ]
     },
     "execution_count": 4,
     "metadata": {},
     "output_type": "execute_result"
    }
   ],
   "source": [
    "img_np"
   ]
  },
  {
   "cell_type": "code",
   "execution_count": null,
   "id": "5c026d64-4807-4430-8ca7-331d3577abf2",
   "metadata": {
    "scrolled": true
   },
   "outputs": [],
   "source": [
    "img_np[420:470,420:470,:]"
   ]
  },
  {
   "cell_type": "code",
   "execution_count": null,
   "id": "fcfcb61e-60ed-4c3c-9efa-f8513e20cf49",
   "metadata": {},
   "outputs": [],
   "source": [
    "np.unique(img_np)"
   ]
  },
  {
   "cell_type": "markdown",
   "id": "e08ca001-0a8c-4618-bb64-08db47262c8b",
   "metadata": {},
   "source": [
    "## Set labeled imgs"
   ]
  },
  {
   "cell_type": "code",
   "execution_count": 5,
   "id": "db5ff8a5-a601-4bd5-b37b-fe17b6e5092d",
   "metadata": {},
   "outputs": [],
   "source": [
    "selected_images={\"GX010034_14.jpg\",\n",
    "                 \"GX010040_19.jpg\",\n",
    "                 \"GX010034_10.jpg\",\n",
    "                 \"GX010035_50.jpg\",\n",
    "                 \"GX010044_4.jpg\",\n",
    "                 \"GX010038_1.jpg\",\n",
    "                 \"GX010045_15.jpg\",\n",
    "                 \"GX010046_6.jpg\",\n",
    "                 \"GX010045_17.jpg\",\n",
    "                 \"GX010044_6.jpg\",\n",
    "                 \"GX010045_17.jpg\",\n",
    "                 \"GX010044_6.jpg\",\n",
    "                 \"GX010040_31.jpg\",\n",
    "                 \"GX010038_17.jpg\",\n",
    "                 \"GX010045_29.jpg\",\n",
    "                 \"GX010044_5.jpg\",\n",
    "                 \"GX010040_3.jpg\",\n",
    "                 \"GX010042_1.jpg\",\n",
    "                 \"GX010032_8.jpg\"}\n",
    "\n",
    "path_image=\"/Users/YaVolkonskiy/Documents/Projects/tomato/data/001_raw_data/002_video_data_customer/002_labeled/labeled_Olga_Gelya_21_11_23/img_selected_labeled/\""
   ]
  },
  {
   "cell_type": "markdown",
   "id": "bd9c70df-1c05-4867-98f8-7eb9d4f5ff98",
   "metadata": {},
   "source": [
    "## Load labeled LS anot "
   ]
  },
  {
   "cell_type": "code",
   "execution_count": 6,
   "id": "b5c073ea-79db-4ee6-b9fe-294231bce06e",
   "metadata": {},
   "outputs": [],
   "source": [
    "# pth_name = \"project-13-at-2023-11-21-11-39-a223ddf0.json\"\n",
    "pth_name =\"/Users/YaVolkonskiy/Documents/Projects/tomato/data/001_raw_data/002_video_data_customer/002_labeled/labeled_Olga_Gelya_21_11_23/project-13-at-2023-11-21-11-39-a223ddf0.json\"\n",
    "\n",
    "with open(pth_name) as user_file:\n",
    "    parsed_json = json.load(user_file)\n",
    "\n",
    "\n",
    "# Select just labeled agree with set\n",
    "need_labels= []\n",
    "\n",
    "for n in parsed_json:\n",
    "    if os.path.basename(n['data']['image']) in selected_images:\n",
    "        need_labels.append(n)"
   ]
  },
  {
   "cell_type": "code",
   "execution_count": 7,
   "id": "f3a40553-f90e-4920-a3f0-f718c4bca645",
   "metadata": {},
   "outputs": [],
   "source": [
    "dict_clas={\"leaf\":1,\n",
    "            \"stem\":2,\n",
    "            \"tomato\":3}"
   ]
  },
  {
   "cell_type": "markdown",
   "id": "cb377525-929c-44a2-baea-8e7f54dc395c",
   "metadata": {},
   "source": [
    "## Pipe convert LS to paddle_paddle_sef"
   ]
  },
  {
   "cell_type": "code",
   "execution_count": 11,
   "id": "21422415-1042-4b0e-adf5-89d99afd3cf8",
   "metadata": {},
   "outputs": [],
   "source": [
    "def relative2absalute(np_arr, resolution_orig):\n",
    "    np_arr_abs = np.copy(np_arr)\n",
    "    np_arr_abs[:,:1] = np_arr_abs[:,:1]/100*resolution_orig[1]\n",
    "    np_arr_abs[:,1:] = np_arr_abs[:,1:]/100*resolution_orig[0]\n",
    "    # np_arr_abs=np.rint(np_arr_abs).astype(np.int32)\n",
    "    np_arr_abs=np.rint(np_arr_abs).astype(np.int32)\n",
    "\n",
    "    return np_arr_abs\n",
    "\n",
    "def get_resolution(one_imgObj_LS):\n",
    "    w_orig = one_imgObj_LS[\"annotations\"][0]['result'][0]['original_width']\n",
    "    h_orig = one_imgObj_LS[\"annotations\"][0]['result'][0]['original_height']\n",
    "    resolution_orig = (h_orig,w_orig)\n",
    "    return resolution_orig\n",
    "\n",
    "def change_ext(name_file, new_ext):\n",
    "    pre, ext = os.path.splitext(name_file)\n",
    "    return f\"{pre}.{new_ext}\"\n",
    "\n",
    "def LS2paddle_seg(one_imgObj_LS, dict_clas):\n",
    "    \n",
    "    resolution_orig=get_resolution(one_imgObj_LS)\n",
    "    full_mask = np.zeros(shape=resolution_orig, dtype=np.uint32)\n",
    "    \n",
    "    \n",
    "    for result in one_imgObj_LS[\"annotations\"][0][\"result\"]:\n",
    "        points=result[\"value\"]['points']\n",
    "        np_polyg=np.array( [np.array(i) for i in points] )\n",
    "        # Convert relative points to absolute\n",
    "        np_polyg_abs=relative2absalute(np_polyg, resolution_orig)\n",
    "        # Add dimension polyg\n",
    "        np_polyg_abs=np_polyg_abs[np.newaxis, ... ] \n",
    "        # Create temporaty mask\n",
    "        mask = np.zeros(shape=resolution_orig, dtype=np.uint8)\n",
    "        \n",
    "        \n",
    "        # we can't use here number more than 255 fot this cv.fillPoly functione there fore we fill value=1, then will replace it to => init_ids\n",
    "        name_label = result[\"value\"][\"polygonlabels\"][0]\n",
    "        color_clas=dict_clas[name_label]\n",
    "        \n",
    "        filled_mask = cv.fillPoly(mask, pts=np_polyg_abs, color=color_clas)\n",
    "        filled_mask.max()\n",
    "    \n",
    "        full_mask[filled_mask == color_clas] = color_clas\n",
    "    \n",
    "    \n",
    "    # zer_np=  np.zeros(shape=resolution_orig, dtype=np.uint32)\n",
    "    # # meaning labeled layer in 3d RGB array is last = full_mask\n",
    "    # result_np = np.stack((zer_np, zer_np, full_mask), axis=-1, dtype=np.uint8)\n",
    "    print(full_mask.shape)\n",
    "    full_mask=full_mask.astype(np.uint8)\n",
    "    return full_mask  # result_np\n"
   ]
  },
  {
   "cell_type": "markdown",
   "id": "98b6582b-1b97-43d6-a5ea-70650f5d83ae",
   "metadata": {},
   "source": [
    "## pipe to paddle_seg"
   ]
  },
  {
   "cell_type": "code",
   "execution_count": 17,
   "id": "dd8b6427-f006-4688-86b2-80df6e3271d1",
   "metadata": {},
   "outputs": [
    {
     "name": "stdout",
     "output_type": "stream",
     "text": [
      "(1520, 2704)\n",
      "(1520, 2704)\n",
      "(1520, 2704)\n",
      "(1520, 2704)\n",
      "(1520, 2704)\n",
      "(1520, 2704)\n",
      "(1520, 2704)\n",
      "(1520, 2704)\n",
      "(1520, 2704)\n",
      "(1520, 2704)\n",
      "(1520, 2704)\n",
      "(1520, 2704)\n",
      "(1520, 2704)\n",
      "(1520, 2704)\n",
      "(1520, 2704)\n",
      "(1520, 2704)\n",
      "(1520, 2704)\n"
     ]
    }
   ],
   "source": [
    "# dict_clas={ \"leaf\":80,\n",
    "#             \"stem\":160,\n",
    "#             \"tomato\":240 }\n",
    "\n",
    "dict_clas={\"leaf\":1,\n",
    "            \"stem\":2,\n",
    "            \"tomato\":3}\n",
    "\n",
    "dst=\"/Users/YaVolkonskiy/Documents/Projects/tomato/data/002_data_experiments/004_train_Mask2Former_panoptic_23_10_23/paddle_paddle_gray/Annotations_gray/\"\n",
    "\n",
    "for one_imgObj_LS in need_labels:\n",
    "    result_np = LS2paddle_seg(one_imgObj_LS, dict_clas)\n",
    "    # naming path \n",
    "    name_image = os.path.basename(one_imgObj_LS['data']['image'])\n",
    "    name_image= change_ext(name_image, \"png\")\n",
    "    dst_path = os.path.join(dst,name_image)\n",
    "\n",
    "    # save img\n",
    "    cv.imwrite(dst_path, result_np)"
   ]
  },
  {
   "cell_type": "code",
   "execution_count": null,
   "id": "e00ea401-b1be-492d-ac2e-0e704f035c59",
   "metadata": {},
   "outputs": [],
   "source": []
  },
  {
   "cell_type": "markdown",
   "id": "fb91f481-07ad-4cf6-9a58-939805db312c",
   "metadata": {},
   "source": [
    "# SECOND SET"
   ]
  },
  {
   "cell_type": "markdown",
   "id": "2c68ee28-4a53-4fed-af56-abdf003ed893",
   "metadata": {},
   "source": [
    "### another paddle_seg"
   ]
  },
  {
   "cell_type": "code",
   "execution_count": null,
   "id": "1bc1aeba-cc13-415c-b677-af77850ea7ef",
   "metadata": {},
   "outputs": [],
   "source": []
  },
  {
   "cell_type": "code",
   "execution_count": 18,
   "id": "b0bd8578-6673-4445-9ce4-648bfefab0cb",
   "metadata": {},
   "outputs": [],
   "source": [
    "selected_images={\"GX010027_42.jpg\",\n",
    "                 \"GX010027_1.jpg\",\n",
    "                 \"GX010028_70.jpg\",\n",
    "                 \"GX010020_89.jpg\",\n",
    "                 \"GX010027_6.jpg\",\n",
    "                 \"GX010017_20.jpg\",\n",
    "                 \"GX010023_34.jpg\",\n",
    "                 \"GX010027_46.jpg\",\n",
    "                 \"GX010018_63.jpg\",\n",
    "                 \"GX010026_12.jpg\",\n",
    "                 \"GX010024_4.jpg\",\n",
    "                 \"GX010025_60.jpg\",\n",
    "                 \"GX010028_20.jpg\",\n",
    "                 \"GX010018_9.jpg\",\n",
    "                 \"GX010021_34.jpg\", # from this point new labels\n",
    "                 \"GX010027_37.jpg\",\n",
    "                 \"GX010019_6.jpg\",\n",
    "                 \"GX010023_13.jpg\",\n",
    "                 \"GX010020_43.jpg\",\n",
    "                 \"GX010023_55.jpg\",\n",
    "                 \"GX010019_85.jpg\",\n",
    "                 \"GX010026_73.jpg\",\n",
    "                 \"GX010027_24.jpg\",\n",
    "                 \"GX010027_19.jpg\",\n",
    "                 \"GX010020_10.jpg\",\n",
    "                 \"GX010028_60.jpg\",\n",
    "                 \"GX010027_28.jpg\"\n",
    "                 }"
   ]
  },
  {
   "cell_type": "code",
   "execution_count": 19,
   "id": "e068c6ff-2dcb-4ce8-86ac-22a007659777",
   "metadata": {},
   "outputs": [],
   "source": [
    "pth_name =\"/Users/YaVolkonskiy/Documents/Projects/tomato/data/001_raw_data/001_video_data_customer/003_labels/002_labeled_studio_LEAF_TOMATO_15.11.23/project-8-at-2023-11-15-17-09-e7686567.json\"\n",
    "\n",
    "with open(pth_name) as user_file:\n",
    "    parsed_json = json.load(user_file)\n",
    "\n",
    "\n",
    "# Select just labeled agree with set\n",
    "need_labels= []\n",
    "\n",
    "for n in parsed_json:\n",
    "    if os.path.basename(n['data']['image']) in selected_images:\n",
    "        need_labels.append(n)"
   ]
  },
  {
   "cell_type": "code",
   "execution_count": 20,
   "id": "fbc12bcd-f8e7-4e24-bff3-797ac57ef761",
   "metadata": {},
   "outputs": [
    {
     "data": {
      "text/plain": [
       "44"
      ]
     },
     "execution_count": 20,
     "metadata": {},
     "output_type": "execute_result"
    }
   ],
   "source": [
    "len(need_labels)+17"
   ]
  },
  {
   "cell_type": "code",
   "execution_count": 21,
   "id": "ed878492-07df-4f20-a42f-40dd510f2068",
   "metadata": {},
   "outputs": [
    {
     "name": "stdout",
     "output_type": "stream",
     "text": [
      "(1520, 2704)\n",
      "(1520, 2704)\n",
      "(1520, 2704)\n",
      "(1520, 2704)\n",
      "(1520, 2704)\n",
      "(1520, 2704)\n",
      "(1520, 2704)\n",
      "(1520, 2704)\n",
      "(1520, 2704)\n",
      "(1520, 2704)\n",
      "(1520, 2704)\n",
      "(1520, 2704)\n",
      "(1520, 2704)\n",
      "(1520, 2704)\n",
      "(1520, 2704)\n",
      "(1520, 2704)\n",
      "(1520, 2704)\n",
      "(1520, 2704)\n",
      "(1520, 2704)\n",
      "(1520, 2704)\n",
      "(1520, 2704)\n",
      "(1520, 2704)\n",
      "(1520, 2704)\n",
      "(1520, 2704)\n",
      "(1520, 2704)\n",
      "(1520, 2704)\n",
      "(1520, 2704)\n"
     ]
    }
   ],
   "source": [
    "# dict_clas={ \"leaf\":80,\n",
    "#             \"stem\":160,\n",
    "#             \"tomato\":240 }\n",
    "\n",
    "dict_clas={\"leaf\":1,\n",
    "            \"stem\":2,\n",
    "            \"tomato\":3}\n",
    "\n",
    "dst=\"/Users/YaVolkonskiy/Documents/Projects/tomato/data/002_data_experiments/004_train_Mask2Former_panoptic_23_10_23/paddle_paddle_gray/Annotations_gray/\"\n",
    "\n",
    "for one_imgObj_LS in need_labels:\n",
    "    result_np = LS2paddle_seg(one_imgObj_LS, dict_clas)\n",
    "    # naming path \n",
    "    name_image = os.path.basename(one_imgObj_LS['data']['image'])\n",
    "    name_image= change_ext(name_image, \"png\")\n",
    "    dst_path = os.path.join(dst,name_image)\n",
    "\n",
    "    # save img\n",
    "    cv.imwrite(dst_path, result_np)"
   ]
  },
  {
   "cell_type": "code",
   "execution_count": null,
   "id": "b0e03951-ca2c-484e-9482-038f366e3f6a",
   "metadata": {},
   "outputs": [],
   "source": []
  },
  {
   "cell_type": "markdown",
   "id": "0b5549c0-3567-4514-a79d-6a004a6acce0",
   "metadata": {},
   "source": [
    "## split to traind and val"
   ]
  },
  {
   "cell_type": "code",
   "execution_count": null,
   "id": "de9c18d4-7014-482f-9dc9-2f4864294a09",
   "metadata": {},
   "outputs": [],
   "source": [
    "def del_recursiv_DS_Store(path):\n",
    "    if os.path.isdir(path):\n",
    "        # Clear file counter\n",
    "        i = 0\n",
    "        \n",
    "        # Runs through all files in the directory\n",
    "        for root, sub, files in os.walk(path):\n",
    "            \n",
    "            for file in files:\n",
    "        \n",
    "                # Checks if exists .DS_Store file\n",
    "                if file == \".DS_Store\":\n",
    "        \n",
    "                    # Get full path of current .DS_Store file\n",
    "                    fullpath = os.path.abspath(os.path.join(root, file))\n",
    "                    print (f\"Deleting  + {fullpath}\")\n",
    "        \n",
    "                    # Remove file\n",
    "                    os.remove(fullpath)\n",
    "                    i += 1\n",
    "        \n",
    "        print (f\"str(i) +  files deleted\")"
   ]
  },
  {
   "cell_type": "code",
   "execution_count": null,
   "id": "5000d85f-448e-4cc8-94f5-ef9f5641d308",
   "metadata": {},
   "outputs": [],
   "source": [
    "pth = \"/Users/YaVolkonskiy/Documents/Projects/tomato/data/002_data_experiments/004_train_Mask2Former_panoptic_23_10_23/paddle_paddle/\"\n",
    "\n",
    "del_recursiv_DS_Store(pth)"
   ]
  },
  {
   "cell_type": "code",
   "execution_count": null,
   "id": "c32b9bd0-7723-4291-969e-950c347108d3",
   "metadata": {},
   "outputs": [],
   "source": []
  },
  {
   "cell_type": "code",
   "execution_count": null,
   "id": "61dc2c0a-8b7a-4897-89fb-c0d89fedcf7a",
   "metadata": {
    "scrolled": true
   },
   "outputs": [],
   "source": [
    "pth_labes = \"/Users/YaVolkonskiy/Documents/Projects/tomato/data/002_data_experiments/004_train_Mask2Former_panoptic_23_10_23/paddle_paddle/Annotations\"\n",
    "\n",
    "list_anot = os.listdir(pth_labes)\n",
    "list_anot\n",
    "# UpdatedList = random.sample(list_anot, 3)"
   ]
  },
  {
   "cell_type": "code",
   "execution_count": null,
   "id": "04a65f8c-068a-4110-bd4a-bd50418b772c",
   "metadata": {},
   "outputs": [],
   "source": [
    "def split_TrainVal(l,p):\n",
    "    amount_for_train = int(len(l)*p)\n",
    "    train_set = set(random.sample(l, amount_for_train))\n",
    "    # val_set = list(set(l)-set(l_train))\n",
    "    l=set(l)\n",
    "    val_set=l.difference(train_set)\n",
    "    return list(train_set), list(val_set)"
   ]
  },
  {
   "cell_type": "code",
   "execution_count": null,
   "id": "56fa913f-7f2f-40c7-a1a4-82fd9c349019",
   "metadata": {},
   "outputs": [],
   "source": [
    "train_list, val_list = split_TrainVal(list_anot, 0.85)\n",
    "\n",
    "\n",
    "print(f\"Amount train_list : {len(train_list)}\")\n",
    "print(f\"Amount val_list   : {len(val_list)}\")\n",
    "\n",
    "print( f\"Intersection is none: {set(train_list).intersection( set(val_list))==set()} \" )"
   ]
  },
  {
   "cell_type": "code",
   "execution_count": null,
   "id": "92df1803-3215-44d5-8d4b-c16ef3eb7e90",
   "metadata": {},
   "outputs": [],
   "source": [
    "def write_anot(exmpl_list, dst_dirout, name_file):\n",
    "    val_str= \"\"\n",
    "    \n",
    "    img_foldName = \"JPEGImages\"\n",
    "    anot_foldName = \"Annotations\"\n",
    "    \n",
    "    for name_file_anot in exmpl_list:\n",
    "        name_file_jpg = change_ext(name_file_anot, \"jpg\")\n",
    "        tmp_str = f\"{img_foldName}/{name_file_jpg} {anot_foldName}/{name_file_anot}\"\n",
    "        val_str= f\"{val_str}\\n{tmp_str}\"\n",
    "    \n",
    "    val_str=val_str.strip(\"\\n\")\n",
    "\n",
    "    dst_dirout = os.path.join(dst_dirout, name_file)\n",
    "    with open(dst_dirout, 'w') as f:\n",
    "        f.write(val_str)\n",
    "    print(f\"Well done!!!\")\n",
    "    return val_str"
   ]
  },
  {
   "cell_type": "code",
   "execution_count": null,
   "id": "b7d41bc3-0401-4d65-b122-69444761c27a",
   "metadata": {},
   "outputs": [],
   "source": [
    "name_file = \"val_list.txt\"\n",
    "dst_dirout = \"/Users/YaVolkonskiy/Documents/Projects/tomato/data/002_data_experiments/004_train_Mask2Former_panoptic_23_10_23/paddle_paddle/\"\n",
    "\n",
    "exmpl_list = val_list\n",
    "\n",
    "val_str= write_anot(exmpl_list, dst_dirout, name_file)"
   ]
  },
  {
   "cell_type": "code",
   "execution_count": null,
   "id": "8d11f934-20e8-4242-bbc1-09868c753a44",
   "metadata": {},
   "outputs": [],
   "source": [
    "val_str.strip(\"\\n\")"
   ]
  },
  {
   "cell_type": "code",
   "execution_count": null,
   "id": "7ebf0eb6-41c9-4247-893b-0e46346d7279",
   "metadata": {},
   "outputs": [],
   "source": [
    "name_file = \"train_list.txt\"\n",
    "dst_dirout = \"/Users/YaVolkonskiy/Documents/Projects/tomato/data/002_data_experiments/004_train_Mask2Former_panoptic_23_10_23/paddle_paddle/\"\n",
    "\n",
    "exmpl_list = train_list\n",
    "\n",
    "val_str= write_anot(exmpl_list, dst_dirout, name_file)"
   ]
  },
  {
   "cell_type": "code",
   "execution_count": null,
   "id": "3f5704c0-1060-440c-b609-f35bc488085d",
   "metadata": {},
   "outputs": [],
   "source": []
  },
  {
   "cell_type": "code",
   "execution_count": null,
   "id": "b1fa671d-7014-4aed-a54c-d290378a1cc6",
   "metadata": {},
   "outputs": [],
   "source": [
    "path_img = \"/Users/YaVolkonskiy/Documents/Projects/tomato/data/002_data_experiments/004_train_Mask2Former_panoptic_23_10_23/paddle_paddle_resized/Annotations/GX010018_9.png\"\n",
    "\n",
    "img_np = cv.imread(path_img)\n",
    "# img_np[220:270,220:270,:]\n",
    "img_np[:,:,:3].max()\n",
    "\n",
    "np.unique(img_np)"
   ]
  },
  {
   "cell_type": "code",
   "execution_count": null,
   "id": "f6ca0815-3864-4f93-b9ae-d98151418676",
   "metadata": {},
   "outputs": [],
   "source": [
    "import cv2\n",
    "\n",
    "# path_img = \"/Users/YaVolkonskiy/Documents/Projects/tomato/data/002_data_experiments/example_paddle_seg/optic_disc_seg/Annotations/H0002.png\"\n",
    "path_img = \"/Users/YaVolkonskiy/Documents/Projects/tomato/data/002_data_experiments/004_train_Mask2Former_panoptic_23_10_23/paddle_paddle_resized/Annotations/GX010018_9.png\"\n",
    "\n",
    "\n",
    "\n",
    "img_np = cv2.imread(path_img, cv2.IMREAD_UNCHANGED)\n",
    "\n",
    "\n",
    "img_np"
   ]
  },
  {
   "cell_type": "code",
   "execution_count": null,
   "id": "60d9e176-4717-4577-bd0a-e2d43d38619e",
   "metadata": {},
   "outputs": [],
   "source": []
  },
  {
   "cell_type": "code",
   "execution_count": null,
   "id": "9f57d1a5-ba23-45fd-85cd-6015f3aac452",
   "metadata": {},
   "outputs": [],
   "source": [
    "def resize (src, dst, res):\n",
    "    res = cv.resize(img, (width, height), interpolation = cv.INTER_NEAREST) \n",
    "    cv.imwrite"
   ]
  },
  {
   "cell_type": "code",
   "execution_count": null,
   "id": "d7d17290-ae85-4afc-ac46-fc58e4372982",
   "metadata": {},
   "outputs": [],
   "source": [
    "src = \"/Users/YaVolkonskiy/Documents/Projects/tomato/data/002_data_experiments/004_train_Mask2Former_panoptic_23_10_23/paddle_paddle/Annotations\"\n",
    "\n",
    "dst = \"/Users/YaVolkonskiy/Documents/Projects/tomato/data/002_data_experiments/004_train_Mask2Former_panoptic_23_10_23/paddle_paddle_resized/Annotations\"\n",
    "\n",
    "res =  (512,512)"
   ]
  },
  {
   "cell_type": "code",
   "execution_count": null,
   "id": "4ced326b-fc8e-4521-9360-e00812924370",
   "metadata": {},
   "outputs": [],
   "source": [
    "import os \n",
    "\n",
    "src = \"/Users/YaVolkonskiy/Documents/Projects/tomato/data/002_data_experiments/004_train_Mask2Former_panoptic_23_10_23/paddle_paddle/Annotations\"\n",
    "dst = \"/Users/YaVolkonskiy/Documents/Projects/tomato/data/002_data_experiments/004_train_Mask2Former_panoptic_23_10_23/paddle_paddle_512_0123/Annotations\"\n",
    "res =  (512,512)\n",
    "\n",
    "for img_name in os.listdir(src):\n",
    "    src_ful_name = os.path.join(src, img_name)\n",
    "    dst_ful_name = os.path.join(dst, img_name)\n",
    "\n",
    "    img_np = cv.imread(src_ful_name)\n",
    "    img_np = cv.resize(img_np, res, interpolation = cv.INTER_NEAREST)\n",
    "    # cv.imwrite()\n",
    "    cv.imwrite(dst_ful_name, img_np) "
   ]
  },
  {
   "cell_type": "code",
   "execution_count": null,
   "id": "cf6c23f3-0fb5-40e8-9cf0-fed7f5fda643",
   "metadata": {},
   "outputs": [],
   "source": [
    "import os \n",
    "\n",
    "src = \"//Users/YaVolkonskiy/Documents/Projects/tomato/data/002_data_experiments/004_train_Mask2Former_panoptic_23_10_23/paddle_paddle/JPEGImages\"\n",
    "\n",
    "dst = \"/Users/YaVolkonskiy/Documents/Projects/tomato/data/002_data_experiments/004_train_Mask2Former_panoptic_23_10_23/paddle_paddle_resized/JPEGImages\"\n",
    "\n",
    "res =  (512,512)\n",
    "for img_name in os.listdir(src):\n",
    "    src_ful_name = os.path.join(src, img_name)\n",
    "    dst_ful_name = os.path.join(dst, img_name)\n",
    "\n",
    "    img_np = cv.imread(src_ful_name)\n",
    "    img_np = cv.resize(img_np, res, interpolation = cv.INTER_CUBIC)\n",
    "    # cv.imwrite()\n",
    "    cv.imwrite(dst_ful_name, img_np) "
   ]
  },
  {
   "cell_type": "code",
   "execution_count": null,
   "id": "ac60baaf-cb60-4b9f-99c0-13456fe32218",
   "metadata": {},
   "outputs": [],
   "source": []
  }
 ],
 "metadata": {
  "kernelspec": {
   "display_name": "Python 3 (ipykernel)",
   "language": "python",
   "name": "python3"
  },
  "language_info": {
   "codemirror_mode": {
    "name": "ipython",
    "version": 3
   },
   "file_extension": ".py",
   "mimetype": "text/x-python",
   "name": "python",
   "nbconvert_exporter": "python",
   "pygments_lexer": "ipython3",
   "version": "3.11.6"
  }
 },
 "nbformat": 4,
 "nbformat_minor": 5
}
