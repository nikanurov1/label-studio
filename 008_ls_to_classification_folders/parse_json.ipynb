{
 "cells": [
  {
   "cell_type": "code",
   "execution_count": 1,
   "id": "1d6b78ef-3528-4bfb-acce-926fd2e93172",
   "metadata": {},
   "outputs": [],
   "source": [
    "import os\n",
    "import cv2 as cv\n",
    "import urllib.parse\n",
    "import numpy as np\n",
    "import shutil"
   ]
  },
  {
   "cell_type": "code",
   "execution_count": 8,
   "id": "8c31758d-2205-441b-b0cd-b1032139e7a9",
   "metadata": {
    "scrolled": true
   },
   "outputs": [],
   "source": [
    "import json\n",
    "\n",
    "json_file = \"/Users/YaVolkonskiy/Documents/001_Projects/002_cheese/002_data/001_raw_data/012_Unlabeled_Tatyana/labeled_by_Olga/labels_LS/07/project-17-at-2024-01-12-08-02-ca1e09d7.json\"\n",
    "\n",
    "with open(json_file) as json_data:\n",
    "    data = json.load(json_data)\n",
    "\n",
    "# data"
   ]
  },
  {
   "cell_type": "code",
   "execution_count": 9,
   "id": "376c2ca3-005b-41c5-a02f-93b0e8ab2061",
   "metadata": {},
   "outputs": [],
   "source": [
    "src_images = \"/Users/YaVolkonskiy/Documents/001_Projects/002_cheese/002_data/001_raw_data/012_Unlabeled_Tatyana/chese_not_labeled_by_Tatyana/7\"\n",
    "dst_images = \"/Users/YaVolkonskiy/Documents/001_Projects/002_cheese/002_data/001_raw_data/012_Unlabeled_Tatyana/labeled_by_Olga/images_resorted\"\n",
    "\n",
    "for one_imgObj_LS in data:\n",
    "    # src img\n",
    "    name_image = os.path.basename(one_imgObj_LS['data']['image'])\n",
    "    name_image = urllib.parse.unquote(name_image)\n",
    "    src_img_path = os.path.join(src_images, name_image)\n",
    "\n",
    "    cls_current = one_imgObj_LS[\"annotations\"][0][\"result\"][0][\"value\"][\"choices\"][0]\n",
    "\n",
    "    # dst img\n",
    "    dst_img_path = os.path.join(dst_images, cls_current, name_image)\n",
    "    shutil.copy(src_img_path,dst_img_path)"
   ]
  },
  {
   "cell_type": "code",
   "execution_count": null,
   "id": "092f82c2-94f7-46b2-b38e-d1928e8caf4f",
   "metadata": {},
   "outputs": [],
   "source": []
  },
  {
   "cell_type": "code",
   "execution_count": 10,
   "id": "6f102e0f-1700-4e04-bef9-fa10949f4372",
   "metadata": {},
   "outputs": [
    {
     "data": {
      "text/plain": [
       "989"
      ]
     },
     "execution_count": 10,
     "metadata": {},
     "output_type": "execute_result"
    }
   ],
   "source": [
    "## restored\n",
    "7+310+285+177+86+71+40+13"
   ]
  },
  {
   "cell_type": "code",
   "execution_count": null,
   "id": "10af9920-12ee-4269-9dc8-8416052cf77f",
   "metadata": {},
   "outputs": [],
   "source": []
  },
  {
   "cell_type": "code",
   "execution_count": null,
   "id": "fa35127f-5a45-43b1-949d-218805b979da",
   "metadata": {},
   "outputs": [],
   "source": []
  },
  {
   "cell_type": "code",
   "execution_count": null,
   "id": "f117fcdb-add5-450b-b9cf-34a0d72e6fab",
   "metadata": {},
   "outputs": [],
   "source": []
  },
  {
   "cell_type": "code",
   "execution_count": null,
   "id": "9525b144-d3e3-4996-a274-60ea22795d2b",
   "metadata": {},
   "outputs": [],
   "source": []
  },
  {
   "cell_type": "code",
   "execution_count": null,
   "id": "77932b0d-93ba-42b5-9657-71fbd70b6742",
   "metadata": {},
   "outputs": [],
   "source": [
    "path_image = \"/Users/YaVolkonskiy/Documents/001_Projects/002_cheese/002_data/001_raw_data/012_Unlabeled_Tatyana/chese_not_labeled_by_Tatyana/4\"\n",
    "\n",
    "one_imgObj_LS=data[0]\n",
    "name_image = os.path.basename(one_imgObj_LS['data']['image'])\n",
    "name_image = urllib.parse.unquote(name_image)\n",
    "\n",
    "# img_read cv2\n",
    "full_img_path = os.path.join(path_image, name_image)\n",
    "image_np = cv.cvtColor(  cv.imread(full_img_path) , cv.COLOR_BGR2RGB).astype(np.float32)"
   ]
  },
  {
   "cell_type": "code",
   "execution_count": null,
   "id": "c5c6a64b-a8d0-4d87-9230-e826cf2bb07e",
   "metadata": {
    "scrolled": true
   },
   "outputs": [],
   "source": [
    "name_image"
   ]
  },
  {
   "cell_type": "code",
   "execution_count": null,
   "id": "332da097-e57e-42ab-b09e-cb2751264730",
   "metadata": {},
   "outputs": [],
   "source": [
    "image_np.shape"
   ]
  },
  {
   "cell_type": "code",
   "execution_count": null,
   "id": "4166add6-9f8c-4049-ace5-ca2bb4197066",
   "metadata": {},
   "outputs": [],
   "source": [
    "from PIL import Image\n",
    "import cv2 \n",
    "# from IPython.display import display\n",
    "\n",
    "display(Image.fromarray(image_np.astype(np.uint8)))"
   ]
  },
  {
   "cell_type": "code",
   "execution_count": null,
   "id": "4cb312e8-8576-4eca-a8be-7e7af57daed2",
   "metadata": {},
   "outputs": [],
   "source": [
    "one_imgObj_LS[\"annotations\"][0][\"result\"][0][\"value\"][\"choices\"][0]"
   ]
  },
  {
   "cell_type": "code",
   "execution_count": null,
   "id": "c531982a-1922-4f7d-9eb4-8e05af00972f",
   "metadata": {},
   "outputs": [],
   "source": []
  },
  {
   "cell_type": "code",
   "execution_count": null,
   "id": "b13e349b-4d31-420a-a297-15672d532c31",
   "metadata": {},
   "outputs": [],
   "source": []
  },
  {
   "cell_type": "code",
   "execution_count": null,
   "id": "4d3ca504-812e-4222-bf06-f1bb0e365525",
   "metadata": {},
   "outputs": [],
   "source": []
  },
  {
   "cell_type": "code",
   "execution_count": null,
   "id": "5b4379e9-fc23-4e2f-89ac-9cd84abdcfac",
   "metadata": {},
   "outputs": [],
   "source": []
  }
 ],
 "metadata": {
  "kernelspec": {
   "display_name": "Python 3 (ipykernel)",
   "language": "python",
   "name": "python3"
  },
  "language_info": {
   "codemirror_mode": {
    "name": "ipython",
    "version": 3
   },
   "file_extension": ".py",
   "mimetype": "text/x-python",
   "name": "python",
   "nbconvert_exporter": "python",
   "pygments_lexer": "ipython3",
   "version": "3.11.6"
  }
 },
 "nbformat": 4,
 "nbformat_minor": 5
}
